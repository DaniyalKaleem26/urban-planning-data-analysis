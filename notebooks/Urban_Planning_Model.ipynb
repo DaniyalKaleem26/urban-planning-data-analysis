{
 "cells": [
  {
   "cell_type": "markdown",
   "id": "a1bc8077-2148-49d4-9593-486f12c5f777",
   "metadata": {},
   "source": [
    "# Importing the file and neccessary libraries"
   ]
  },
  {
   "cell_type": "code",
   "execution_count": 327,
   "id": "8ac84c53-b94b-44b1-9533-bcb9e47b7fad",
   "metadata": {},
   "outputs": [],
   "source": [
    "#Importing the necessary libraries\n",
    "import pandas as pd\n",
    "import numpy as np\n",
    "import seaborn as sns\n",
    "import matplotlib.pyplot as plt"
   ]
  },
  {
   "cell_type": "code",
   "execution_count": 328,
   "id": "9862c3f0-9380-470c-bd4a-8d0c9e0f4380",
   "metadata": {},
   "outputs": [],
   "source": [
    "#Reading the csv file.\n",
    "df = pd.read_csv('census4.csv')"
   ]
  },
  {
   "cell_type": "code",
   "execution_count": 329,
   "id": "7c112f7c-69b2-4318-b2b9-89894b405ab6",
   "metadata": {},
   "outputs": [
    {
     "data": {
      "text/html": [
       "<div>\n",
       "<style scoped>\n",
       "    .dataframe tbody tr th:only-of-type {\n",
       "        vertical-align: middle;\n",
       "    }\n",
       "\n",
       "    .dataframe tbody tr th {\n",
       "        vertical-align: top;\n",
       "    }\n",
       "\n",
       "    .dataframe thead th {\n",
       "        text-align: right;\n",
       "    }\n",
       "</style>\n",
       "<table border=\"1\" class=\"dataframe\">\n",
       "  <thead>\n",
       "    <tr style=\"text-align: right;\">\n",
       "      <th></th>\n",
       "      <th>Unnamed: 0</th>\n",
       "      <th>House Number</th>\n",
       "      <th>Street</th>\n",
       "      <th>First Name</th>\n",
       "      <th>Surname</th>\n",
       "      <th>Age</th>\n",
       "      <th>Relationship to Head of House</th>\n",
       "      <th>Marital Status</th>\n",
       "      <th>Gender</th>\n",
       "      <th>Occupation</th>\n",
       "      <th>Infirmity</th>\n",
       "      <th>Religion</th>\n",
       "    </tr>\n",
       "  </thead>\n",
       "  <tbody>\n",
       "    <tr>\n",
       "      <th>0</th>\n",
       "      <td>0</td>\n",
       "      <td>1.0</td>\n",
       "      <td>Salford Street</td>\n",
       "      <td>Antony</td>\n",
       "      <td>Taylor</td>\n",
       "      <td>59</td>\n",
       "      <td>Head</td>\n",
       "      <td>Divorced</td>\n",
       "      <td>Male</td>\n",
       "      <td>Pharmacologist</td>\n",
       "      <td>NaN</td>\n",
       "      <td>NaN</td>\n",
       "    </tr>\n",
       "    <tr>\n",
       "      <th>1</th>\n",
       "      <td>1</td>\n",
       "      <td>1.0</td>\n",
       "      <td>Salford Street</td>\n",
       "      <td>Shane</td>\n",
       "      <td>Taylor</td>\n",
       "      <td>31</td>\n",
       "      <td>Son</td>\n",
       "      <td>Single</td>\n",
       "      <td>Male</td>\n",
       "      <td>IT trainer</td>\n",
       "      <td>NaN</td>\n",
       "      <td>NaN</td>\n",
       "    </tr>\n",
       "    <tr>\n",
       "      <th>2</th>\n",
       "      <td>2</td>\n",
       "      <td>1.0</td>\n",
       "      <td>Salford Street</td>\n",
       "      <td>Carl</td>\n",
       "      <td>Taylor</td>\n",
       "      <td>30</td>\n",
       "      <td>Son</td>\n",
       "      <td>Divorced</td>\n",
       "      <td>Male</td>\n",
       "      <td>Unemployed</td>\n",
       "      <td>NaN</td>\n",
       "      <td>NaN</td>\n",
       "    </tr>\n",
       "    <tr>\n",
       "      <th>3</th>\n",
       "      <td>3</td>\n",
       "      <td>1.0</td>\n",
       "      <td>Salford Street</td>\n",
       "      <td>Michael</td>\n",
       "      <td>Taylor</td>\n",
       "      <td>27</td>\n",
       "      <td>Son</td>\n",
       "      <td>Single</td>\n",
       "      <td>Male</td>\n",
       "      <td>Geologist, wellsite</td>\n",
       "      <td>NaN</td>\n",
       "      <td>NaN</td>\n",
       "    </tr>\n",
       "    <tr>\n",
       "      <th>4</th>\n",
       "      <td>4</td>\n",
       "      <td>1.0</td>\n",
       "      <td>Salford Street</td>\n",
       "      <td>Mark</td>\n",
       "      <td>Taylor</td>\n",
       "      <td>23</td>\n",
       "      <td>Son</td>\n",
       "      <td>Single</td>\n",
       "      <td>Male</td>\n",
       "      <td>Information systems manager</td>\n",
       "      <td>NaN</td>\n",
       "      <td>NaN</td>\n",
       "    </tr>\n",
       "    <tr>\n",
       "      <th>5</th>\n",
       "      <td>5</td>\n",
       "      <td>2.0</td>\n",
       "      <td>Salford Street</td>\n",
       "      <td>Deborah</td>\n",
       "      <td>Harris</td>\n",
       "      <td>70</td>\n",
       "      <td>Head</td>\n",
       "      <td>Married</td>\n",
       "      <td>Female</td>\n",
       "      <td>Retired Museum/gallery exhibitions officer</td>\n",
       "      <td>NaN</td>\n",
       "      <td>Catholic</td>\n",
       "    </tr>\n",
       "    <tr>\n",
       "      <th>6</th>\n",
       "      <td>6</td>\n",
       "      <td>2.0</td>\n",
       "      <td>Salford Street</td>\n",
       "      <td>Mitchell</td>\n",
       "      <td>Harris</td>\n",
       "      <td>72</td>\n",
       "      <td>Husband</td>\n",
       "      <td>Married</td>\n",
       "      <td>Male</td>\n",
       "      <td>Retired Editor, commissioning</td>\n",
       "      <td>NaN</td>\n",
       "      <td>NaN</td>\n",
       "    </tr>\n",
       "    <tr>\n",
       "      <th>7</th>\n",
       "      <td>7</td>\n",
       "      <td>2.0</td>\n",
       "      <td>Salford Street</td>\n",
       "      <td>Marie</td>\n",
       "      <td>Harris</td>\n",
       "      <td>37</td>\n",
       "      <td>Daughter</td>\n",
       "      <td>Divorced</td>\n",
       "      <td>Female</td>\n",
       "      <td>Nutritional therapist</td>\n",
       "      <td>NaN</td>\n",
       "      <td>NaN</td>\n",
       "    </tr>\n",
       "    <tr>\n",
       "      <th>8</th>\n",
       "      <td>8</td>\n",
       "      <td>3.0</td>\n",
       "      <td>Salford Street</td>\n",
       "      <td>Hollie</td>\n",
       "      <td>Harris</td>\n",
       "      <td>24</td>\n",
       "      <td>Head</td>\n",
       "      <td>Single</td>\n",
       "      <td>Female</td>\n",
       "      <td>Midwife</td>\n",
       "      <td>NaN</td>\n",
       "      <td>Muslim</td>\n",
       "    </tr>\n",
       "    <tr>\n",
       "      <th>9</th>\n",
       "      <td>9</td>\n",
       "      <td>3.0</td>\n",
       "      <td>Salford Street</td>\n",
       "      <td>Stephen</td>\n",
       "      <td>Harris</td>\n",
       "      <td>2</td>\n",
       "      <td>Son</td>\n",
       "      <td>NaN</td>\n",
       "      <td>Male</td>\n",
       "      <td>Child</td>\n",
       "      <td>NaN</td>\n",
       "      <td>NaN</td>\n",
       "    </tr>\n",
       "    <tr>\n",
       "      <th>10</th>\n",
       "      <td>10</td>\n",
       "      <td>3.0</td>\n",
       "      <td>Salford Street</td>\n",
       "      <td>Connor</td>\n",
       "      <td>Harris</td>\n",
       "      <td>0</td>\n",
       "      <td>Son</td>\n",
       "      <td>NaN</td>\n",
       "      <td>Male</td>\n",
       "      <td>Child</td>\n",
       "      <td>NaN</td>\n",
       "      <td>NaN</td>\n",
       "    </tr>\n",
       "    <tr>\n",
       "      <th>11</th>\n",
       "      <td>11</td>\n",
       "      <td>4.0</td>\n",
       "      <td>Salford Street</td>\n",
       "      <td>Amelia</td>\n",
       "      <td>Khan</td>\n",
       "      <td>41</td>\n",
       "      <td>Head</td>\n",
       "      <td>Married</td>\n",
       "      <td>Female</td>\n",
       "      <td>Hydrographic surveyor</td>\n",
       "      <td>NaN</td>\n",
       "      <td>NaN</td>\n",
       "    </tr>\n",
       "    <tr>\n",
       "      <th>12</th>\n",
       "      <td>12</td>\n",
       "      <td>4.0</td>\n",
       "      <td>Salford Street</td>\n",
       "      <td>Marc</td>\n",
       "      <td>Khan</td>\n",
       "      <td>46</td>\n",
       "      <td>Husband</td>\n",
       "      <td>Married</td>\n",
       "      <td>Male</td>\n",
       "      <td>Publishing copy</td>\n",
       "      <td>NaN</td>\n",
       "      <td>NaN</td>\n",
       "    </tr>\n",
       "    <tr>\n",
       "      <th>13</th>\n",
       "      <td>13</td>\n",
       "      <td>5.0</td>\n",
       "      <td>Salford Street</td>\n",
       "      <td>Jayne</td>\n",
       "      <td>Barrett</td>\n",
       "      <td>47</td>\n",
       "      <td>Head</td>\n",
       "      <td>Divorced</td>\n",
       "      <td>Female</td>\n",
       "      <td>Unemployed</td>\n",
       "      <td>NaN</td>\n",
       "      <td>Catholic</td>\n",
       "    </tr>\n",
       "    <tr>\n",
       "      <th>14</th>\n",
       "      <td>14</td>\n",
       "      <td>5.0</td>\n",
       "      <td>Salford Street</td>\n",
       "      <td>Ross</td>\n",
       "      <td>Barrett</td>\n",
       "      <td>17</td>\n",
       "      <td>Son</td>\n",
       "      <td>NaN</td>\n",
       "      <td>Male</td>\n",
       "      <td>Student</td>\n",
       "      <td>NaN</td>\n",
       "      <td>NaN</td>\n",
       "    </tr>\n",
       "    <tr>\n",
       "      <th>15</th>\n",
       "      <td>15</td>\n",
       "      <td>6.0</td>\n",
       "      <td>Salford Street</td>\n",
       "      <td>Georgina</td>\n",
       "      <td>Singh</td>\n",
       "      <td>58</td>\n",
       "      <td>Head</td>\n",
       "      <td>Married</td>\n",
       "      <td>Female</td>\n",
       "      <td>Health physicist</td>\n",
       "      <td>NaN</td>\n",
       "      <td>NaN</td>\n",
       "    </tr>\n",
       "    <tr>\n",
       "      <th>16</th>\n",
       "      <td>16</td>\n",
       "      <td>6.0</td>\n",
       "      <td>Salford Street</td>\n",
       "      <td>Paul</td>\n",
       "      <td>Singh</td>\n",
       "      <td>60</td>\n",
       "      <td>Husband</td>\n",
       "      <td>Married</td>\n",
       "      <td>Male</td>\n",
       "      <td>Management consultant</td>\n",
       "      <td>NaN</td>\n",
       "      <td>NaN</td>\n",
       "    </tr>\n",
       "    <tr>\n",
       "      <th>17</th>\n",
       "      <td>17</td>\n",
       "      <td>6.0</td>\n",
       "      <td>Salford Street</td>\n",
       "      <td>Megan</td>\n",
       "      <td>Thompson</td>\n",
       "      <td>34</td>\n",
       "      <td>Daughter</td>\n",
       "      <td>Single</td>\n",
       "      <td>Female</td>\n",
       "      <td>Scientist, water quality</td>\n",
       "      <td>NaN</td>\n",
       "      <td>NaN</td>\n",
       "    </tr>\n",
       "    <tr>\n",
       "      <th>18</th>\n",
       "      <td>18</td>\n",
       "      <td>7.0</td>\n",
       "      <td>Salford Street</td>\n",
       "      <td>Terence</td>\n",
       "      <td>Rhodes</td>\n",
       "      <td>33</td>\n",
       "      <td>Head</td>\n",
       "      <td>Married</td>\n",
       "      <td>Male</td>\n",
       "      <td>Unemployed</td>\n",
       "      <td>NaN</td>\n",
       "      <td>Catholic</td>\n",
       "    </tr>\n",
       "    <tr>\n",
       "      <th>19</th>\n",
       "      <td>19</td>\n",
       "      <td>7.0</td>\n",
       "      <td>Salford Street</td>\n",
       "      <td>Paula</td>\n",
       "      <td>Rhodes</td>\n",
       "      <td>33</td>\n",
       "      <td>Wife</td>\n",
       "      <td>Married</td>\n",
       "      <td>Female</td>\n",
       "      <td>Corporate treasurer</td>\n",
       "      <td>NaN</td>\n",
       "      <td>Catholic</td>\n",
       "    </tr>\n",
       "    <tr>\n",
       "      <th>20</th>\n",
       "      <td>20</td>\n",
       "      <td>7.0</td>\n",
       "      <td>Salford Street</td>\n",
       "      <td>Antony</td>\n",
       "      <td>Rhodes</td>\n",
       "      <td>13</td>\n",
       "      <td>Son</td>\n",
       "      <td>NaN</td>\n",
       "      <td>Male</td>\n",
       "      <td>Student</td>\n",
       "      <td>NaN</td>\n",
       "      <td>NaN</td>\n",
       "    </tr>\n",
       "    <tr>\n",
       "      <th>21</th>\n",
       "      <td>21</td>\n",
       "      <td>8.0</td>\n",
       "      <td>Salford Street</td>\n",
       "      <td>Kevin</td>\n",
       "      <td>Jones</td>\n",
       "      <td>78.03437587482676</td>\n",
       "      <td>Head</td>\n",
       "      <td>Widowed</td>\n",
       "      <td>Male</td>\n",
       "      <td>Retired Charity officer</td>\n",
       "      <td>NaN</td>\n",
       "      <td>NaN</td>\n",
       "    </tr>\n",
       "    <tr>\n",
       "      <th>22</th>\n",
       "      <td>22</td>\n",
       "      <td>8.0</td>\n",
       "      <td>Salford Street</td>\n",
       "      <td>Dominic</td>\n",
       "      <td>Kelly</td>\n",
       "      <td>5.999999999999993</td>\n",
       "      <td>Grandson</td>\n",
       "      <td>NaN</td>\n",
       "      <td>Male</td>\n",
       "      <td>Student</td>\n",
       "      <td>NaN</td>\n",
       "      <td>NaN</td>\n",
       "    </tr>\n",
       "    <tr>\n",
       "      <th>23</th>\n",
       "      <td>23</td>\n",
       "      <td>9.0</td>\n",
       "      <td>Salford Street</td>\n",
       "      <td>Frederick</td>\n",
       "      <td>Cook</td>\n",
       "      <td>31</td>\n",
       "      <td>Head</td>\n",
       "      <td>Single</td>\n",
       "      <td>Male</td>\n",
       "      <td>Building control surveyor</td>\n",
       "      <td>NaN</td>\n",
       "      <td>Sikh</td>\n",
       "    </tr>\n",
       "    <tr>\n",
       "      <th>24</th>\n",
       "      <td>24</td>\n",
       "      <td>10.0</td>\n",
       "      <td>Salford Street</td>\n",
       "      <td>Yvonne</td>\n",
       "      <td>Mills</td>\n",
       "      <td>34</td>\n",
       "      <td>Head</td>\n",
       "      <td>Single</td>\n",
       "      <td>Female</td>\n",
       "      <td>Unemployed</td>\n",
       "      <td>NaN</td>\n",
       "      <td>Catholic</td>\n",
       "    </tr>\n",
       "  </tbody>\n",
       "</table>\n",
       "</div>"
      ],
      "text/plain": [
       "    Unnamed: 0  House Number          Street First Name   Surname  \\\n",
       "0            0           1.0  Salford Street     Antony    Taylor   \n",
       "1            1           1.0  Salford Street      Shane    Taylor   \n",
       "2            2           1.0  Salford Street       Carl    Taylor   \n",
       "3            3           1.0  Salford Street    Michael    Taylor   \n",
       "4            4           1.0  Salford Street       Mark    Taylor   \n",
       "5            5           2.0  Salford Street    Deborah    Harris   \n",
       "6            6           2.0  Salford Street   Mitchell    Harris   \n",
       "7            7           2.0  Salford Street      Marie    Harris   \n",
       "8            8           3.0  Salford Street     Hollie    Harris   \n",
       "9            9           3.0  Salford Street    Stephen    Harris   \n",
       "10          10           3.0  Salford Street     Connor    Harris   \n",
       "11          11           4.0  Salford Street     Amelia      Khan   \n",
       "12          12           4.0  Salford Street       Marc      Khan   \n",
       "13          13           5.0  Salford Street      Jayne   Barrett   \n",
       "14          14           5.0  Salford Street       Ross   Barrett   \n",
       "15          15           6.0  Salford Street   Georgina     Singh   \n",
       "16          16           6.0  Salford Street       Paul     Singh   \n",
       "17          17           6.0  Salford Street      Megan  Thompson   \n",
       "18          18           7.0  Salford Street    Terence    Rhodes   \n",
       "19          19           7.0  Salford Street      Paula    Rhodes   \n",
       "20          20           7.0  Salford Street     Antony    Rhodes   \n",
       "21          21           8.0  Salford Street      Kevin     Jones   \n",
       "22          22           8.0  Salford Street    Dominic     Kelly   \n",
       "23          23           9.0  Salford Street  Frederick      Cook   \n",
       "24          24          10.0  Salford Street     Yvonne     Mills   \n",
       "\n",
       "                  Age Relationship to Head of House Marital Status  Gender  \\\n",
       "0                  59                          Head       Divorced    Male   \n",
       "1                  31                           Son         Single    Male   \n",
       "2                  30                           Son       Divorced    Male   \n",
       "3                  27                           Son         Single    Male   \n",
       "4                  23                           Son         Single    Male   \n",
       "5                  70                          Head        Married  Female   \n",
       "6                  72                       Husband        Married    Male   \n",
       "7                  37                      Daughter       Divorced  Female   \n",
       "8                  24                          Head         Single  Female   \n",
       "9                   2                           Son            NaN    Male   \n",
       "10                  0                           Son            NaN    Male   \n",
       "11                 41                          Head        Married  Female   \n",
       "12                 46                       Husband        Married    Male   \n",
       "13                 47                          Head       Divorced  Female   \n",
       "14                 17                           Son            NaN    Male   \n",
       "15                 58                          Head        Married  Female   \n",
       "16                 60                       Husband        Married    Male   \n",
       "17                 34                      Daughter         Single  Female   \n",
       "18                 33                          Head        Married    Male   \n",
       "19                 33                          Wife        Married  Female   \n",
       "20                 13                           Son            NaN    Male   \n",
       "21  78.03437587482676                          Head        Widowed    Male   \n",
       "22  5.999999999999993                      Grandson            NaN    Male   \n",
       "23                 31                          Head         Single    Male   \n",
       "24                 34                          Head         Single  Female   \n",
       "\n",
       "                                    Occupation Infirmity  Religion  \n",
       "0                               Pharmacologist       NaN       NaN  \n",
       "1                                   IT trainer       NaN       NaN  \n",
       "2                                   Unemployed       NaN       NaN  \n",
       "3                          Geologist, wellsite       NaN       NaN  \n",
       "4                  Information systems manager       NaN       NaN  \n",
       "5   Retired Museum/gallery exhibitions officer       NaN  Catholic  \n",
       "6                Retired Editor, commissioning       NaN       NaN  \n",
       "7                        Nutritional therapist       NaN       NaN  \n",
       "8                                      Midwife       NaN    Muslim  \n",
       "9                                        Child       NaN       NaN  \n",
       "10                                       Child       NaN       NaN  \n",
       "11                       Hydrographic surveyor       NaN       NaN  \n",
       "12                             Publishing copy       NaN       NaN  \n",
       "13                                  Unemployed       NaN  Catholic  \n",
       "14                                     Student       NaN       NaN  \n",
       "15                            Health physicist       NaN       NaN  \n",
       "16                       Management consultant       NaN       NaN  \n",
       "17                    Scientist, water quality       NaN       NaN  \n",
       "18                                  Unemployed       NaN  Catholic  \n",
       "19                         Corporate treasurer       NaN  Catholic  \n",
       "20                                     Student       NaN       NaN  \n",
       "21                     Retired Charity officer       NaN       NaN  \n",
       "22                                     Student       NaN       NaN  \n",
       "23                   Building control surveyor       NaN      Sikh  \n",
       "24                                  Unemployed       NaN  Catholic  "
      ]
     },
     "execution_count": 329,
     "metadata": {},
     "output_type": "execute_result"
    }
   ],
   "source": [
    "df.head(25)"
   ]
  },
  {
   "cell_type": "code",
   "execution_count": 330,
   "id": "3a6dbec5-e633-4fa0-bf0b-41436ef44c80",
   "metadata": {},
   "outputs": [
    {
     "name": "stdout",
     "output_type": "stream",
     "text": [
      "<class 'pandas.core.frame.DataFrame'>\n",
      "RangeIndex: 8085 entries, 0 to 8084\n",
      "Data columns (total 12 columns):\n",
      " #   Column                         Non-Null Count  Dtype  \n",
      "---  ------                         --------------  -----  \n",
      " 0   Unnamed: 0                     8085 non-null   int64  \n",
      " 1   House Number                   8045 non-null   float64\n",
      " 2   Street                         8045 non-null   object \n",
      " 3   First Name                     8045 non-null   object \n",
      " 4   Surname                        8045 non-null   object \n",
      " 5   Age                            8045 non-null   object \n",
      " 6   Relationship to Head of House  7506 non-null   object \n",
      " 7   Marital Status                 6230 non-null   object \n",
      " 8   Gender                         8045 non-null   object \n",
      " 9   Occupation                     8045 non-null   object \n",
      " 10  Infirmity                      58 non-null     object \n",
      " 11  Religion                       3534 non-null   object \n",
      "dtypes: float64(1), int64(1), object(10)\n",
      "memory usage: 758.1+ KB\n"
     ]
    }
   ],
   "source": [
    "#Some general info of our csv data.\n",
    "df.info()"
   ]
  },
  {
   "cell_type": "code",
   "execution_count": 331,
   "id": "948b5e3e-a572-4923-bf9c-7fa37f79199e",
   "metadata": {},
   "outputs": [
    {
     "data": {
      "text/plain": [
       "Unnamed: 0                       False\n",
       "House Number                      True\n",
       "Street                            True\n",
       "First Name                        True\n",
       "Surname                           True\n",
       "Age                               True\n",
       "Relationship to Head of House     True\n",
       "Marital Status                    True\n",
       "Gender                            True\n",
       "Occupation                        True\n",
       "Infirmity                         True\n",
       "Religion                          True\n",
       "dtype: bool"
      ]
     },
     "execution_count": 331,
     "metadata": {},
     "output_type": "execute_result"
    }
   ],
   "source": [
    "#Lets check to see which columns have null entries.\n",
    "df.isnull().any()"
   ]
  },
  {
   "cell_type": "code",
   "execution_count": 332,
   "id": "3e4ca951-2562-483a-a7ba-218a7d70422e",
   "metadata": {},
   "outputs": [
    {
     "data": {
      "text/plain": [
       "Unnamed: 0                          0\n",
       "House Number                       40\n",
       "Street                             40\n",
       "First Name                         40\n",
       "Surname                            40\n",
       "Age                                40\n",
       "Relationship to Head of House     579\n",
       "Marital Status                   1855\n",
       "Gender                             40\n",
       "Occupation                         40\n",
       "Infirmity                        8027\n",
       "Religion                         4551\n",
       "dtype: int64"
      ]
     },
     "execution_count": 332,
     "metadata": {},
     "output_type": "execute_result"
    }
   ],
   "source": [
    "#Every column has atleast 1 null entry.\n",
    "#Lets check to see how many null entries each column has.\n",
    "df.isna().sum()"
   ]
  },
  {
   "cell_type": "markdown",
   "id": "b7472033-f3a1-4359-8cae-4821c9b21702",
   "metadata": {},
   "source": [
    "# Data Cleaning and Analysis"
   ]
  },
  {
   "cell_type": "markdown",
   "id": "3ef4492b-ea3d-4814-835b-1e04098f32fc",
   "metadata": {},
   "source": [
    "# House Number"
   ]
  },
  {
   "cell_type": "code",
   "execution_count": 333,
   "id": "ba24f469-cb85-4229-89f1-ded6b5efc242",
   "metadata": {},
   "outputs": [
    {
     "data": {
      "text/plain": [
       "40"
      ]
     },
     "execution_count": 333,
     "metadata": {},
     "output_type": "execute_result"
    }
   ],
   "source": [
    "# Checking how many none entries there are in House Number column.\n",
    "df['House Number'].isna().sum()"
   ]
  },
  {
   "cell_type": "code",
   "execution_count": 334,
   "id": "9e99cc4b-6d49-455c-85e9-033bc5573cc0",
   "metadata": {},
   "outputs": [
    {
     "data": {
      "text/plain": [
       "array([  1.,   2.,   3.,   4.,   5.,   6.,   7.,   8.,   9.,  10.,  11.,\n",
       "        12.,  13.,  14.,  15.,  16.,  17.,  18.,  19.,  20.,  21.,  22.,\n",
       "        23.,  24.,  25.,  26.,  27.,  28.,  29.,  30.,  31.,  32.,  33.,\n",
       "        34.,  35.,  36.,  37.,  38.,  39.,  40.,  41.,  42.,  43.,  44.,\n",
       "        45.,  46.,  47.,  48.,  49.,  50.,  51.,  52.,  53.,  54.,  55.,\n",
       "        56.,  57.,  58.,  59.,  60.,  61.,  62.,  63.,  64.,  65.,  66.,\n",
       "        67.,  68.,  69.,  70.,  71.,  72.,  73.,  74.,  75.,  76.,  77.,\n",
       "        78.,  79.,  80.,  81.,  82.,  83.,  84.,  85.,  86.,  87.,  88.,\n",
       "        89.,  90.,  91.,  92.,  93.,  94.,  95.,  96.,  97.,  98.,  99.,\n",
       "       100., 101., 102., 103., 104., 105., 106., 107., 108., 109., 110.,\n",
       "       111., 112., 113.,  nan, 114., 115., 116., 117., 118., 119., 120.,\n",
       "       121., 122., 123., 124., 125., 126., 127., 128., 129., 130., 131.,\n",
       "       132., 133., 134., 135., 136., 137., 138., 139., 140., 141., 142.,\n",
       "       143., 144., 145., 146., 147., 148., 149., 150., 151., 152., 153.,\n",
       "       154., 155., 156., 157., 158., 159., 160., 161., 162., 163., 164.,\n",
       "       165., 166., 167., 168., 169., 170., 171., 172., 173., 174., 175.,\n",
       "       176., 177., 178., 179., 180., 181., 182., 183., 184., 185., 186.,\n",
       "       187., 188., 189., 190., 191., 192., 193., 194., 195., 196., 197.,\n",
       "       198., 199., 200., 201., 202., 203., 204., 205., 206., 207., 208.,\n",
       "       209., 210., 211., 212., 213., 214., 215., 216., 217., 218., 219.,\n",
       "       220., 221., 222., 223., 224., 225., 226., 227., 228., 229., 230.,\n",
       "       231., 232.])"
      ]
     },
     "execution_count": 334,
     "metadata": {},
     "output_type": "execute_result"
    }
   ],
   "source": [
    "#Lets find the unique entries for House Number.\n",
    "df['House Number'].unique()"
   ]
  },
  {
   "cell_type": "code",
   "execution_count": 335,
   "id": "a5a34187-becd-4981-9559-4fe46d89504f",
   "metadata": {},
   "outputs": [
    {
     "name": "stderr",
     "output_type": "stream",
     "text": [
      "C:\\Users\\sleek\\AppData\\Local\\Temp\\ipykernel_6708\\1438185992.py:2: UserWarning: \n",
      "\n",
      "`distplot` is a deprecated function and will be removed in seaborn v0.14.0.\n",
      "\n",
      "Please adapt your code to use either `displot` (a figure-level function with\n",
      "similar flexibility) or `histplot` (an axes-level function for histograms).\n",
      "\n",
      "For a guide to updating your code to use the new functions, please see\n",
      "https://gist.github.com/mwaskom/de44147ed2974457ad6372750bbe5751\n",
      "\n",
      "  sns.distplot(df['House Number'])\n"
     ]
    },
    {
     "data": {
      "text/plain": [
       "<Axes: xlabel='House Number', ylabel='Density'>"
      ]
     },
     "execution_count": 335,
     "metadata": {},
     "output_type": "execute_result"
    },
    {
     "data": {
      "image/png": "[encoded data removed]",
      "text/plain": [
       "<Figure size 640x480 with 1 Axes>"
      ]
     },
     "metadata": {},
     "output_type": "display_data"
    }
   ],
   "source": [
    "#Lets visualize our House Number data.\n",
    "sns.distplot(df['House Number'])"
   ]
  },
  {
   "cell_type": "code",
   "execution_count": 336,
   "id": "47b51501-37c3-4a49-a1c9-bbf2baa29c00",
   "metadata": {},
   "outputs": [],
   "source": [
    "# Create a mapping of (Surname, Street) to House Number\n",
    "house_number_mapping = df.dropna(subset=['House Number']).set_index(['Surname', 'Street'])['House Number'].astype(int).to_dict()\n",
    "\n",
    "# Define a function to fill missing house number based on surname and street or previous entry\n",
    "def fill_house_number(row, mapping, prev_house_number):\n",
    "    if pd.notna(row['House Number']):\n",
    "        return row['House Number']\n",
    "    \n",
    "    # Check if we can get a house number from the mapping\n",
    "    mapping_key = (row['Surname'], row['Street'])\n",
    "    if mapping_key in mapping:\n",
    "        return mapping[mapping_key]\n",
    "    \n",
    "    # If no mapping, use the previous house number + 1\n",
    "    if prev_house_number is not None:\n",
    "        return prev_house_number + 1\n",
    "    \n",
    "    return None  # If no previous house number, return None\n",
    "\n",
    "# Apply the function to fill missing house numbers\n",
    "prev_house_number = None\n",
    "for index, row in df.iterrows():\n",
    "    new_value = fill_house_number(row, house_number_mapping, prev_house_number)\n",
    "    df.at[index, 'House Number'] = new_value\n",
    "    if pd.notna(new_value):\n",
    "        prev_house_number = new_value\n",
    "    else:\n",
    "        prev_house_number = None"
   ]
  },
  {
   "cell_type": "markdown",
   "id": "aa28e057-f24e-4525-a03f-4ee87ab5e51e",
   "metadata": {},
   "source": [
    "# Street "
   ]
  },
  {
   "cell_type": "code",
   "execution_count": 337,
   "id": "8b73a194-147f-4717-956f-e01cab6316eb",
   "metadata": {},
   "outputs": [
    {
     "data": {
      "text/plain": [
       "40"
      ]
     },
     "execution_count": 337,
     "metadata": {},
     "output_type": "execute_result"
    }
   ],
   "source": [
    "# Lets find the missing values in streets.\n",
    "df['Street'].isna().sum()"
   ]
  },
  {
   "cell_type": "code",
   "execution_count": 338,
   "id": "00d4e2e5-7991-44fa-8572-a237842ba0c3",
   "metadata": {},
   "outputs": [],
   "source": [
    "for i in range(len(df)):\n",
    "    if pd.isna(df.at[i, 'Street']):\n",
    "        if (df.at[i, 'House Number'] == df.at[i - 1, 'House Number'] + 1) or (df.at[i, 'House Number'] == df.at[i - 1, 'House Number']):\n",
    "            df.at[i, 'Street'] = df.at[i - 1, 'Street']\n",
    "        else:\n",
    "            df.at[i, 'Street'] = df.at[i + 1, 'Street']"
   ]
  },
  {
   "cell_type": "markdown",
   "id": "d89c4828-bac7-4f13-88eb-0a54661a00f6",
   "metadata": {},
   "source": [
    "# First Name"
   ]
  },
  {
   "cell_type": "code",
   "execution_count": 339,
   "id": "dca174aa-35fa-4ca0-861b-f37c6862faf6",
   "metadata": {},
   "outputs": [
    {
     "data": {
      "text/plain": [
       "40"
      ]
     },
     "execution_count": 339,
     "metadata": {},
     "output_type": "execute_result"
    }
   ],
   "source": [
    "# Lets find the missing entries in First Name column.\n",
    "df['First Name'].isna().sum()"
   ]
  },
  {
   "cell_type": "code",
   "execution_count": 340,
   "id": "641cd08e-6da0-4eae-9649-02c7f4b0adc1",
   "metadata": {},
   "outputs": [],
   "source": [
    "#Lets find the most common first name based in the surname in our data.\n",
    "most_common_first_name = df.groupby('Surname')['First Name'].apply(lambda x: x.mode()[0] if not x.mode().empty else 'Unknown')\n",
    "\n",
    "# Fillin the missing First names based on Surnames\n",
    "df['First Name'] = df.apply(lambda row: most_common_first_name[row['Surname']] if pd.isnull(row['First Name']) else row['First Name'], axis=1)\n"
   ]
  },
  {
   "cell_type": "markdown",
   "id": "9ebfaa29-e2d4-4d49-bb8d-08003d695ffe",
   "metadata": {},
   "source": [
    "# Surname"
   ]
  },
  {
   "cell_type": "code",
   "execution_count": 341,
   "id": "0b87e626-0998-4b87-bd12-14119420db30",
   "metadata": {},
   "outputs": [],
   "source": [
    "#Lets fix the missing surnames the way we fixed House Number.\n",
    "surname_mapping = df.dropna(subset = ['Surname']).set_index(['House Number', 'Street'])['Surname'].to_dict()\n",
    "mode_surname = df['Surname'].mode()[0]\n",
    "\n",
    "def fill_missing_surname(row, mapping, mode_surname):\n",
    "    if pd.notna(row['Surname']):\n",
    "        return row['Surname']\n",
    "        \n",
    "    mapping_key = (row['House Number'],row['Street'])\n",
    "    if mapping_key in mapping:\n",
    "        return mapping[mapping_key]\n",
    "    \n",
    "    return mode_surname\n",
    "    \n",
    "for index, row in df.iterrows():\n",
    "    new_surname = fill_missing_surname(row, surname_mapping, mode_surname)\n",
    "    df.at[index, 'Surname'] = new_surname"
   ]
  },
  {
   "cell_type": "markdown",
   "id": "ada87d44-738e-4ab4-8c9d-5cd22da82d24",
   "metadata": {},
   "source": [
    "# Age"
   ]
  },
  {
   "cell_type": "code",
   "execution_count": 342,
   "id": "f9737fdd-ea19-404f-9ddc-9a9991b847d4",
   "metadata": {},
   "outputs": [
    {
     "data": {
      "text/plain": [
       "array(['59', '31', '30', '27', '23', '70', '72', '37', '24', '2', '0',\n",
       "       '41', '46', '47', '17', '58', '60', '34', '33', '13',\n",
       "       '78.03437587482676', '5.999999999999993', '4', '39', '45', '16',\n",
       "       '14', '69', '32', '1', '29', '55', '19', '81', '80', '43', '44',\n",
       "       '7', '48', '6', '49', '36', '57', '18', '50', '11', '5', '56',\n",
       "       '38', '12', '51', '22', '21', '54', '63', '68', '25', '53', '10',\n",
       "       '3', '40', '61', '67', nan, '52', '64', '42', '82', '28', '71',\n",
       "       '74', '65.90408780363826', '64.90408780363826', '15', '76', '26',\n",
       "       '8', '73', '20', '62', '79', '86', '78', '83', '9', '88', '65',\n",
       "       '66', '93', '35', '84', '85', '94', '104', '77', '75', '89',\n",
       "       '84.37713308704156', '91', '92', '99', '87', ' ', '95',\n",
       "       '79.99138016359828', '101', '211', 'eight', '96', '97', '102',\n",
       "       '105', '103', 'nine', 'six', 'five', '107', '61.905723245104426',\n",
       "       '98'], dtype=object)"
      ]
     },
     "execution_count": 342,
     "metadata": {},
     "output_type": "execute_result"
    }
   ],
   "source": [
    "#Lets see the unique entries for age.\n",
    "df['Age'].unique()"
   ]
  },
  {
   "cell_type": "code",
   "execution_count": 343,
   "id": "f421febe-1180-4ddb-bb69-f8e469357fc6",
   "metadata": {},
   "outputs": [
    {
     "data": {
      "text/plain": [
       "6492    Price\n",
       "Name: Surname, dtype: object"
      ]
     },
     "execution_count": 343,
     "metadata": {},
     "output_type": "execute_result"
    }
   ],
   "source": [
    "df.loc[df['Age'] == 'nine', 'Surname']"
   ]
  },
  {
   "cell_type": "code",
   "execution_count": 344,
   "id": "202ab8f9-4e47-4d56-aefd-0c4b5c532325",
   "metadata": {},
   "outputs": [],
   "source": [
    "conv_dict = {\n",
    "    'eight' : '8',\n",
    "    'nine' : '9',\n",
    "    'six':'6',\n",
    "    'five':'5'\n",
    "}\n",
    "df['Age'] = df['Age'].replace(conv_dict)"
   ]
  },
  {
   "cell_type": "code",
   "execution_count": 345,
   "id": "e78f1165-ae39-4944-91ed-9b27f8d5109e",
   "metadata": {},
   "outputs": [
    {
     "data": {
      "text/plain": [
       "array(['59', '31', '30', '27', '23', '70', '72', '37', '24', '2', '0',\n",
       "       '41', '46', '47', '17', '58', '60', '34', '33', '13',\n",
       "       '78.03437587482676', '5.999999999999993', '4', '39', '45', '16',\n",
       "       '14', '69', '32', '1', '29', '55', '19', '81', '80', '43', '44',\n",
       "       '7', '48', '6', '49', '36', '57', '18', '50', '11', '5', '56',\n",
       "       '38', '12', '51', '22', '21', '54', '63', '68', '25', '53', '10',\n",
       "       '3', '40', '61', '67', nan, '52', '64', '42', '82', '28', '71',\n",
       "       '74', '65.90408780363826', '64.90408780363826', '15', '76', '26',\n",
       "       '8', '73', '20', '62', '79', '86', '78', '83', '9', '88', '65',\n",
       "       '66', '93', '35', '84', '85', '94', '104', '77', '75', '89',\n",
       "       '84.37713308704156', '91', '92', '99', '87', ' ', '95',\n",
       "       '79.99138016359828', '101', '211', '96', '97', '102', '105', '103',\n",
       "       '107', '61.905723245104426', '98'], dtype=object)"
      ]
     },
     "execution_count": 345,
     "metadata": {},
     "output_type": "execute_result"
    }
   ],
   "source": [
    "df['Age'].unique()"
   ]
  },
  {
   "cell_type": "code",
   "execution_count": 346,
   "id": "b17b2cba-6e5d-4070-b523-f4125e4c9410",
   "metadata": {},
   "outputs": [
    {
     "data": {
      "text/plain": [
       "Series([], Name: Surname, dtype: object)"
      ]
     },
     "execution_count": 346,
     "metadata": {},
     "output_type": "execute_result"
    }
   ],
   "source": [
    "df.loc[df['Age'] == '78.', 'Surname']"
   ]
  },
  {
   "cell_type": "code",
   "execution_count": 347,
   "id": "012191d9-0296-448a-be56-2088ac0b3cb1",
   "metadata": {},
   "outputs": [],
   "source": [
    "df['Age'] = pd.to_numeric(df['Age'], errors='coerce')"
   ]
  },
  {
   "cell_type": "code",
   "execution_count": 348,
   "id": "c415d2b8-4799-4488-86b4-b82a64d40a22",
   "metadata": {},
   "outputs": [
    {
     "data": {
      "text/plain": [
       "42"
      ]
     },
     "execution_count": 348,
     "metadata": {},
     "output_type": "execute_result"
    }
   ],
   "source": [
    "df['Age'].isna().sum()"
   ]
  },
  {
   "cell_type": "code",
   "execution_count": 349,
   "id": "02c9b21e-ae9d-4f9c-a3da-00f7ddd74773",
   "metadata": {},
   "outputs": [
    {
     "name": "stdout",
     "output_type": "stream",
     "text": [
      "19.0\n"
     ]
    }
   ],
   "source": [
    "#Lets calculate the most repeated age.\n",
    "mode_age = df['Age'].mode()[0]\n",
    "print(mode_age)"
   ]
  },
  {
   "cell_type": "code",
   "execution_count": 350,
   "id": "84efcc99-1ce4-41a7-a6b7-09799d7181bd",
   "metadata": {},
   "outputs": [
    {
     "name": "stdout",
     "output_type": "stream",
     "text": [
      "41.0\n"
     ]
    }
   ],
   "source": [
    "#Lets calculate the most repeated age for married or divorced people or those who are head of house.\n",
    "mode_age_over_18 = df.loc[(df['Relationship to Head of House'] == 'Husband') | (df['Relationship to Head of House'] == 'Wife') | (df['Relationship to Head of House'] == 'Head') | (df['Relationship to Head of House'] == 'Partner'), 'Age'].mode()[0]\n",
    "print(mode_age_over_18)"
   ]
  },
  {
   "cell_type": "code",
   "execution_count": 351,
   "id": "fbd048e5-3c94-40dc-a31c-42c1beb81537",
   "metadata": {},
   "outputs": [
    {
     "name": "stdout",
     "output_type": "stream",
     "text": [
      "14.0\n"
     ]
    }
   ],
   "source": [
    "mode_age_under_18 = df.loc[(df['Occupation'] == 'Student'), 'Age'].mode()[0]\n",
    "print(mode_age_under_18)"
   ]
  },
  {
   "cell_type": "code",
   "execution_count": 352,
   "id": "baf4c1d6-f8b2-4456-aff1-e5cf5e928591",
   "metadata": {},
   "outputs": [],
   "source": [
    "occupation_under_18 = {'Student': mode_age_under_18}\n",
    "for i in range(len(df)):\n",
    "    if pd.isna(df.at[i, 'Age']):\n",
    "        occupation = df.at[i, 'Occupation']\n",
    "        if occupation in occupation_under_18:\n",
    "            df.at[i, 'Age'] = occupation_under_18[occupation]"
   ]
  },
  {
   "cell_type": "code",
   "execution_count": 353,
   "id": "e8d0a5ba-a729-4ace-a309-add934e17a57",
   "metadata": {},
   "outputs": [
    {
     "data": {
      "text/plain": [
       "36"
      ]
     },
     "execution_count": 353,
     "metadata": {},
     "output_type": "execute_result"
    }
   ],
   "source": [
    "df['Age'].isna().sum()"
   ]
  },
  {
   "cell_type": "code",
   "execution_count": 354,
   "id": "872c9903-dbe5-4c5b-95c0-6a504f086087",
   "metadata": {},
   "outputs": [],
   "source": [
    "relation_over_18 = {\n",
    "    'Husband':mode_age_over_18,\n",
    "    'Wife':mode_age_over_18,\n",
    "    'Partner':mode_age_over_18,\n",
    "    'Head':mode_age_over_18\n",
    "}\n",
    "for i in range(len(df)):\n",
    "    if pd.isna(df.at[i, 'Age']):\n",
    "        relationship = df.at[i, 'Relationship to Head of House']\n",
    "        if relationship in relation_over_18:\n",
    "            df.at[i, 'Age'] = relation_over_18[relationship]"
   ]
  },
  {
   "cell_type": "code",
   "execution_count": 355,
   "id": "76129430-f8b0-4219-b7ac-384c99feefb6",
   "metadata": {},
   "outputs": [
    {
     "data": {
      "text/plain": [
       "12"
      ]
     },
     "execution_count": 355,
     "metadata": {},
     "output_type": "execute_result"
    }
   ],
   "source": [
    "df['Age'].isna().sum()"
   ]
  },
  {
   "cell_type": "code",
   "execution_count": 356,
   "id": "0bbbde34-4312-4da5-b0b4-18640ac4c679",
   "metadata": {},
   "outputs": [],
   "source": [
    "for i in range(len(df)):\n",
    "    if pd.isna(df.at[i, 'Age']):\n",
    "        df.at[i,'Age'] = mode_age"
   ]
  },
  {
   "cell_type": "code",
   "execution_count": 357,
   "id": "522676e2-efd3-4c78-9916-0277af11fef8",
   "metadata": {},
   "outputs": [
    {
     "data": {
      "text/plain": [
       "0"
      ]
     },
     "execution_count": 357,
     "metadata": {},
     "output_type": "execute_result"
    }
   ],
   "source": [
    "df['Age'].isna().sum()"
   ]
  },
  {
   "cell_type": "code",
   "execution_count": 358,
   "id": "a7a0de04-9eaf-4254-965a-98c29d85a26f",
   "metadata": {},
   "outputs": [],
   "source": [
    "#Lets fix the outlier cases.\n",
    "#We can safely assume that age of greater than a 100 is a statistical anomaly. We should cap our age to 100 for those who are married or widowed.\n",
    "df.loc[((df['Age'] > 100) & (df['Marital Status'] == 'Married')) | ((df['Marital Status'] == 'Widowed') & (df['Age'] > 100)), 'Age'] = 100 \n",
    "\n",
    "#For those who are sing and have a marital status of Single, we should replace their age with mode age of 19.\n",
    "df.loc[(df['Age'] > 100) & (df['Marital Status'] == 'Single'), 'Age'] = mode_age"
   ]
  },
  {
   "cell_type": "code",
   "execution_count": 359,
   "id": "83967503-3277-48a5-8c89-0b11c8917c93",
   "metadata": {},
   "outputs": [],
   "source": [
    "#Lets convert the float ages to integer.\n",
    "df['Age'] = df['Age'].astype('int64')\n",
    "\n",
    "#Now lets convert it back to float.\n",
    "df['Age'] = df['Age'].astype('float')"
   ]
  },
  {
   "cell_type": "code",
   "execution_count": 360,
   "id": "17a54cc9-4e0f-406f-a064-6fec7c07373e",
   "metadata": {},
   "outputs": [
    {
     "data": {
      "text/plain": [
       "array([ 59.,  31.,  30.,  27.,  23.,  70.,  72.,  37.,  24.,   2.,   0.,\n",
       "        41.,  46.,  47.,  17.,  58.,  60.,  34.,  33.,  13.,  78.,   5.,\n",
       "         4.,  39.,  45.,  16.,  14.,  69.,  32.,   1.,  29.,  55.,  19.,\n",
       "        81.,  80.,  43.,  44.,   7.,  48.,   6.,  49.,  36.,  57.,  18.,\n",
       "        50.,  11.,  56.,  38.,  12.,  51.,  22.,  21.,  54.,  63.,  68.,\n",
       "        25.,  53.,  10.,   3.,  40.,  61.,  67.,  52.,  64.,  42.,  82.,\n",
       "        28.,  71.,  74.,  65.,  15.,  76.,  26.,   8.,  73.,  20.,  62.,\n",
       "        79.,  86.,  83.,   9.,  88.,  66.,  93.,  35.,  84.,  85.,  94.,\n",
       "       100.,  77.,  75.,  89.,  91.,  92.,  99.,  87.,  95.,  96.,  97.,\n",
       "       101.,  98.])"
      ]
     },
     "execution_count": 360,
     "metadata": {},
     "output_type": "execute_result"
    }
   ],
   "source": [
    "df['Age'].unique()"
   ]
  },
  {
   "cell_type": "code",
   "execution_count": 361,
   "id": "31bee7aa-7662-4309-abee-e93d5caee33e",
   "metadata": {},
   "outputs": [
    {
     "data": {
      "text/plain": [
       "array(['Child', nan], dtype=object)"
      ]
     },
     "execution_count": 361,
     "metadata": {},
     "output_type": "execute_result"
    }
   ],
   "source": [
    "#Their is also an age entry of 0. Lets see how many of those their are.\n",
    "df.loc[df['Age'] == 0, 'Occupation'].unique()"
   ]
  },
  {
   "cell_type": "code",
   "execution_count": 362,
   "id": "9b1299c9-2409-4ebc-abfa-e4f435d37465",
   "metadata": {},
   "outputs": [],
   "source": [
    "#Their are 75 entries of 0 ages. Since all of them have child or null as their occupation we can assume that these are children less than 1 year olds.\n",
    "#We can change the 0 to 0.5 since 0 cant be a age.\n",
    "df['Age'] = df['Age'].replace(0, 0.5)"
   ]
  },
  {
   "cell_type": "markdown",
   "id": "cef6ef9d-3c62-4f6f-9a3f-6ff1d2dad550",
   "metadata": {},
   "source": [
    "### Relationship to Head of House"
   ]
  },
  {
   "cell_type": "code",
   "execution_count": 363,
   "id": "e8b550db-abd1-493b-b8bf-8ad7edc9d111",
   "metadata": {},
   "outputs": [
    {
     "data": {
      "text/plain": [
       "array(['Head', 'Son', 'Husband', 'Daughter', 'Wife', 'Grandson', 'Niece',\n",
       "       'Nephew', 'Partner', 'Sibling', 'Lodger', 'Step-Daughter', nan,\n",
       "       'Granddaughter', 'Cousin', 'Step-Son', 'Adopted Daughter',\n",
       "       'Visitor', 'Daughter-in-law', 'Adopted Son'], dtype=object)"
      ]
     },
     "execution_count": 363,
     "metadata": {},
     "output_type": "execute_result"
    }
   ],
   "source": [
    "#Lets look for the relationship to the head of house data.\n",
    "df['Relationship to Head of House'].unique()"
   ]
  },
  {
   "cell_type": "code",
   "execution_count": 364,
   "id": "e0a1a614-3427-4762-a02d-03aac5adcd2f",
   "metadata": {},
   "outputs": [
    {
     "data": {
      "text/html": [
       "<div>\n",
       "<style scoped>\n",
       "    .dataframe tbody tr th:only-of-type {\n",
       "        vertical-align: middle;\n",
       "    }\n",
       "\n",
       "    .dataframe tbody tr th {\n",
       "        vertical-align: top;\n",
       "    }\n",
       "\n",
       "    .dataframe thead th {\n",
       "        text-align: right;\n",
       "    }\n",
       "</style>\n",
       "<table border=\"1\" class=\"dataframe\">\n",
       "  <thead>\n",
       "    <tr style=\"text-align: right;\">\n",
       "      <th></th>\n",
       "      <th>Unnamed: 0</th>\n",
       "      <th>House Number</th>\n",
       "      <th>Street</th>\n",
       "      <th>First Name</th>\n",
       "      <th>Surname</th>\n",
       "      <th>Age</th>\n",
       "      <th>Relationship to Head of House</th>\n",
       "      <th>Marital Status</th>\n",
       "      <th>Gender</th>\n",
       "      <th>Occupation</th>\n",
       "      <th>Infirmity</th>\n",
       "      <th>Religion</th>\n",
       "    </tr>\n",
       "  </thead>\n",
       "  <tbody>\n",
       "    <tr>\n",
       "      <th>63</th>\n",
       "      <td>63</td>\n",
       "      <td>23.0</td>\n",
       "      <td>Salford Street</td>\n",
       "      <td>Victor</td>\n",
       "      <td>Naylor</td>\n",
       "      <td>32.0</td>\n",
       "      <td>NaN</td>\n",
       "      <td>Single</td>\n",
       "      <td>Male</td>\n",
       "      <td>Information officer</td>\n",
       "      <td>NaN</td>\n",
       "      <td>NaN</td>\n",
       "    </tr>\n",
       "    <tr>\n",
       "      <th>88</th>\n",
       "      <td>88</td>\n",
       "      <td>6.0</td>\n",
       "      <td>Morris Dam</td>\n",
       "      <td>Andrea</td>\n",
       "      <td>Grant</td>\n",
       "      <td>56.0</td>\n",
       "      <td>NaN</td>\n",
       "      <td>Divorced</td>\n",
       "      <td>Female</td>\n",
       "      <td>International aid/development worker</td>\n",
       "      <td>NaN</td>\n",
       "      <td>NaN</td>\n",
       "    </tr>\n",
       "    <tr>\n",
       "      <th>116</th>\n",
       "      <td>116</td>\n",
       "      <td>10.0</td>\n",
       "      <td>Morris Dam</td>\n",
       "      <td>Charlotte</td>\n",
       "      <td>Whitehead</td>\n",
       "      <td>2.0</td>\n",
       "      <td>NaN</td>\n",
       "      <td>NaN</td>\n",
       "      <td>Female</td>\n",
       "      <td>Child</td>\n",
       "      <td>NaN</td>\n",
       "      <td>NaN</td>\n",
       "    </tr>\n",
       "    <tr>\n",
       "      <th>135</th>\n",
       "      <td>135</td>\n",
       "      <td>12.0</td>\n",
       "      <td>Morris Dam</td>\n",
       "      <td>Hollie</td>\n",
       "      <td>Jones</td>\n",
       "      <td>11.0</td>\n",
       "      <td>NaN</td>\n",
       "      <td>NaN</td>\n",
       "      <td>Female</td>\n",
       "      <td>Student</td>\n",
       "      <td>NaN</td>\n",
       "      <td>NaN</td>\n",
       "    </tr>\n",
       "    <tr>\n",
       "      <th>154</th>\n",
       "      <td>154</td>\n",
       "      <td>16.0</td>\n",
       "      <td>Morris Dam</td>\n",
       "      <td>Joan</td>\n",
       "      <td>Charlton</td>\n",
       "      <td>22.0</td>\n",
       "      <td>NaN</td>\n",
       "      <td>Single</td>\n",
       "      <td>Female</td>\n",
       "      <td>University Student</td>\n",
       "      <td>NaN</td>\n",
       "      <td>Catholic</td>\n",
       "    </tr>\n",
       "    <tr>\n",
       "      <th>...</th>\n",
       "      <td>...</td>\n",
       "      <td>...</td>\n",
       "      <td>...</td>\n",
       "      <td>...</td>\n",
       "      <td>...</td>\n",
       "      <td>...</td>\n",
       "      <td>...</td>\n",
       "      <td>...</td>\n",
       "      <td>...</td>\n",
       "      <td>...</td>\n",
       "      <td>...</td>\n",
       "      <td>...</td>\n",
       "    </tr>\n",
       "    <tr>\n",
       "      <th>8062</th>\n",
       "      <td>8062</td>\n",
       "      <td>1.0</td>\n",
       "      <td>Allan Stables</td>\n",
       "      <td>Leon</td>\n",
       "      <td>Jordan</td>\n",
       "      <td>21.0</td>\n",
       "      <td>NaN</td>\n",
       "      <td>Single</td>\n",
       "      <td>Male</td>\n",
       "      <td>University Student</td>\n",
       "      <td>NaN</td>\n",
       "      <td>NaN</td>\n",
       "    </tr>\n",
       "    <tr>\n",
       "      <th>8063</th>\n",
       "      <td>8063</td>\n",
       "      <td>1.0</td>\n",
       "      <td>Allan Stables</td>\n",
       "      <td>James</td>\n",
       "      <td>Williams</td>\n",
       "      <td>30.0</td>\n",
       "      <td>NaN</td>\n",
       "      <td>Single</td>\n",
       "      <td>Male</td>\n",
       "      <td>Sports development officer</td>\n",
       "      <td>NaN</td>\n",
       "      <td>NaN</td>\n",
       "    </tr>\n",
       "    <tr>\n",
       "      <th>8064</th>\n",
       "      <td>8064</td>\n",
       "      <td>1.0</td>\n",
       "      <td>Allan Stables</td>\n",
       "      <td>Sally</td>\n",
       "      <td>Watkins</td>\n",
       "      <td>60.0</td>\n",
       "      <td>NaN</td>\n",
       "      <td>Single</td>\n",
       "      <td>Female</td>\n",
       "      <td>Medical secretary</td>\n",
       "      <td>NaN</td>\n",
       "      <td>Christian</td>\n",
       "    </tr>\n",
       "    <tr>\n",
       "      <th>8065</th>\n",
       "      <td>8065</td>\n",
       "      <td>1.0</td>\n",
       "      <td>Allan Stables</td>\n",
       "      <td>Lynn</td>\n",
       "      <td>Anderson</td>\n",
       "      <td>60.0</td>\n",
       "      <td>NaN</td>\n",
       "      <td>Single</td>\n",
       "      <td>Female</td>\n",
       "      <td>Paediatric nurse</td>\n",
       "      <td>NaN</td>\n",
       "      <td>Christian</td>\n",
       "    </tr>\n",
       "    <tr>\n",
       "      <th>8066</th>\n",
       "      <td>8066</td>\n",
       "      <td>1.0</td>\n",
       "      <td>Allan Stables</td>\n",
       "      <td>Kayleigh</td>\n",
       "      <td>Bradley</td>\n",
       "      <td>56.0</td>\n",
       "      <td>NaN</td>\n",
       "      <td>Single</td>\n",
       "      <td>Female</td>\n",
       "      <td>Teacher, adult education</td>\n",
       "      <td>NaN</td>\n",
       "      <td>NaN</td>\n",
       "    </tr>\n",
       "  </tbody>\n",
       "</table>\n",
       "<p>579 rows × 12 columns</p>\n",
       "</div>"
      ],
      "text/plain": [
       "      Unnamed: 0  House Number          Street First Name    Surname   Age  \\\n",
       "63            63          23.0  Salford Street     Victor     Naylor  32.0   \n",
       "88            88           6.0      Morris Dam     Andrea      Grant  56.0   \n",
       "116          116          10.0      Morris Dam  Charlotte  Whitehead   2.0   \n",
       "135          135          12.0      Morris Dam     Hollie      Jones  11.0   \n",
       "154          154          16.0      Morris Dam       Joan   Charlton  22.0   \n",
       "...          ...           ...             ...        ...        ...   ...   \n",
       "8062        8062           1.0   Allan Stables       Leon     Jordan  21.0   \n",
       "8063        8063           1.0   Allan Stables      James   Williams  30.0   \n",
       "8064        8064           1.0   Allan Stables      Sally    Watkins  60.0   \n",
       "8065        8065           1.0   Allan Stables       Lynn   Anderson  60.0   \n",
       "8066        8066           1.0   Allan Stables   Kayleigh    Bradley  56.0   \n",
       "\n",
       "     Relationship to Head of House Marital Status  Gender  \\\n",
       "63                             NaN         Single    Male   \n",
       "88                             NaN       Divorced  Female   \n",
       "116                            NaN            NaN  Female   \n",
       "135                            NaN            NaN  Female   \n",
       "154                            NaN         Single  Female   \n",
       "...                            ...            ...     ...   \n",
       "8062                           NaN         Single    Male   \n",
       "8063                           NaN         Single    Male   \n",
       "8064                           NaN         Single  Female   \n",
       "8065                           NaN         Single  Female   \n",
       "8066                           NaN         Single  Female   \n",
       "\n",
       "                                Occupation Infirmity   Religion  \n",
       "63                     Information officer       NaN        NaN  \n",
       "88    International aid/development worker       NaN        NaN  \n",
       "116                                  Child       NaN        NaN  \n",
       "135                                Student       NaN        NaN  \n",
       "154                     University Student       NaN   Catholic  \n",
       "...                                    ...       ...        ...  \n",
       "8062                    University Student       NaN        NaN  \n",
       "8063            Sports development officer       NaN        NaN  \n",
       "8064                     Medical secretary       NaN  Christian  \n",
       "8065                      Paediatric nurse       NaN  Christian  \n",
       "8066              Teacher, adult education       NaN        NaN  \n",
       "\n",
       "[579 rows x 12 columns]"
      ]
     },
     "execution_count": 364,
     "metadata": {},
     "output_type": "execute_result"
    }
   ],
   "source": [
    "df[df['Relationship to Head of House'].isna()]"
   ]
  },
  {
   "cell_type": "code",
   "execution_count": 365,
   "id": "62d9aadf-8f86-4d1e-ac25-05451974e6f5",
   "metadata": {},
   "outputs": [],
   "source": [
    "#Lets replace the Relationship to Head of House to Head if the person is over the age of 18.\n",
    "df.loc[(df['Age'] > 18) & (df['Relationship to Head of House'].isna()), 'Relationship to Head of House'] = 'Head'\n",
    "\n",
    "#Lets fill the Relationship to Head of House to Son or Daughter if person is less than 18.\n",
    "#For Son\n",
    "df.loc[(df['Age'] <= 18) & (df['Relationship to Head of House'].isna() & (df['Gender'] == 'Male')), 'Relationship to Head of House'] = 'Son'\n",
    "\n",
    "#For Daughter\n",
    "df.loc[(df['Age'] <= 18) & (df['Relationship to Head of House'].isna() & (df['Gender'] == 'Female')), 'Relationship to Head of House'] = 'Daughter'"
   ]
  },
  {
   "cell_type": "code",
   "execution_count": 366,
   "id": "93b5ce36-297d-4369-81d3-81922da32387",
   "metadata": {},
   "outputs": [
    {
     "data": {
      "text/plain": [
       "2"
      ]
     },
     "execution_count": 366,
     "metadata": {},
     "output_type": "execute_result"
    }
   ],
   "source": [
    "df['Relationship to Head of House'].isna().sum()"
   ]
  },
  {
   "cell_type": "code",
   "execution_count": 367,
   "id": "885d2334-0398-43cc-a973-e9ee329ee61a",
   "metadata": {},
   "outputs": [
    {
     "data": {
      "text/plain": [
       "6576       Sian\n",
       "7388    Lindsey\n",
       "Name: First Name, dtype: object"
      ]
     },
     "execution_count": 367,
     "metadata": {},
     "output_type": "execute_result"
    }
   ],
   "source": [
    "df.loc[df['Relationship to Head of House'].isnull(), 'First Name']"
   ]
  },
  {
   "cell_type": "code",
   "execution_count": 368,
   "id": "dda08881-4b6c-4765-9137-8bbf9cea24e2",
   "metadata": {},
   "outputs": [
    {
     "data": {
      "text/plain": [
       "6576    18.0\n",
       "7388    18.0\n",
       "Name: Age, dtype: float64"
      ]
     },
     "execution_count": 368,
     "metadata": {},
     "output_type": "execute_result"
    }
   ],
   "source": [
    "df.loc[df['Relationship to Head of House'].isnull(), 'Age']"
   ]
  },
  {
   "cell_type": "code",
   "execution_count": 369,
   "id": "f9b0e14a-9614-4cd7-911e-0c79febe2ba6",
   "metadata": {},
   "outputs": [],
   "source": [
    "#Since both are female and the age is 18 thus their relationship should be daughter\n",
    "df.loc[df['Relationship to Head of House'].isnull(), 'Relationship to Head of House'] = 'Daughter'"
   ]
  },
  {
   "cell_type": "code",
   "execution_count": 370,
   "id": "cb83dd95-ed0e-448a-885a-af3827e51cd7",
   "metadata": {},
   "outputs": [
    {
     "data": {
      "text/plain": [
       "0"
      ]
     },
     "execution_count": 370,
     "metadata": {},
     "output_type": "execute_result"
    }
   ],
   "source": [
    "df['Relationship to Head of House'].isna().sum()"
   ]
  },
  {
   "cell_type": "markdown",
   "id": "6a8df327-9fd5-441e-a66e-30749832252c",
   "metadata": {},
   "source": [
    "### Marital Status"
   ]
  },
  {
   "cell_type": "code",
   "execution_count": 371,
   "id": "8e0b66eb-a42e-4cbb-9bf0-270c350fb04d",
   "metadata": {},
   "outputs": [
    {
     "data": {
      "text/plain": [
       "Marital Status\n",
       "Single      2736\n",
       "Married     2357\n",
       "Divorced     737\n",
       "Widowed      400\n",
       "Name: count, dtype: int64"
      ]
     },
     "execution_count": 371,
     "metadata": {},
     "output_type": "execute_result"
    }
   ],
   "source": [
    "#Lets check the unique marital status entries.\n",
    "df['Marital Status'].value_counts()"
   ]
  },
  {
   "cell_type": "code",
   "execution_count": 372,
   "id": "5918195a-7aff-4646-bbc2-dd8ecddfc542",
   "metadata": {},
   "outputs": [
    {
     "data": {
      "text/plain": [
       "Age\n",
       "41.0    68\n",
       "45.0    62\n",
       "47.0    58\n",
       "49.0    58\n",
       "51.0    58\n",
       "        ..\n",
       "95.0     2\n",
       "87.0     2\n",
       "96.0     2\n",
       "99.0     1\n",
       "98.0     1\n",
       "Name: count, Length: 80, dtype: int64"
      ]
     },
     "execution_count": 372,
     "metadata": {},
     "output_type": "execute_result"
    }
   ],
   "source": [
    "#Lets check the marital status by age.\n",
    "df.loc[df['Marital Status'] == 'Married', 'Age'].value_counts()"
   ]
  },
  {
   "cell_type": "code",
   "execution_count": 373,
   "id": "03ed0ca0-786b-4e28-a2e4-c88ff9f3b39f",
   "metadata": {},
   "outputs": [],
   "source": [
    "#For ages of below 18, we can simply put single, as a person 18 below cannot legally get married.\n",
    "df.loc[df['Age'] < 18, 'Marital Status'] = 'Single'\n",
    "\n",
    "#For ages greater than 18, and with missing value for Marital Status.\n",
    "#We can check if the surname, street and House number of another individual matches with our missing entry.\n",
    "#Whatever the Marital status is of that person, we assign that to our missing entry.\n",
    "Marital_Status_mapping = df.dropna(subset = ['Marital Status']).set_index(['House Number', 'Street','Surname'])['Marital Status'].to_dict()\n",
    "mode_Marital_Status = df['Marital Status'].mode()[0]\n",
    "\n",
    "def fill_missing_Marital_Status(row, mapping, mode_Marital_Status):\n",
    "    if pd.notna(row['Marital Status']):\n",
    "        return row['Marital Status']\n",
    "        \n",
    "    mapping_key = (row['House Number'],row['Street'],row['Surname'])\n",
    "    if mapping_key in mapping:\n",
    "        return mapping[mapping_key]\n",
    "    \n",
    "    return mode_Marital_Status\n",
    "    \n",
    "for index, row in df.iterrows():\n",
    "    new_Marital_Status = fill_missing_Marital_Status(row, Marital_Status_mapping, mode_Marital_Status)\n",
    "    df.at[index, 'Marital Status'] = new_Marital_Status"
   ]
  },
  {
   "cell_type": "markdown",
   "id": "c8b33b45-dc5e-4acf-99f1-5367d2b28aa9",
   "metadata": {},
   "source": [
    "### Gender"
   ]
  },
  {
   "cell_type": "code",
   "execution_count": 374,
   "id": "ad9ffd71-88cb-45a0-8ae9-3637ce4d46ea",
   "metadata": {},
   "outputs": [
    {
     "data": {
      "text/plain": [
       "array(['Male', 'Female', 'M', 'f', 'm', 'F', nan, 'male', 'female', ' '],\n",
       "      dtype=object)"
      ]
     },
     "execution_count": 374,
     "metadata": {},
     "output_type": "execute_result"
    }
   ],
   "source": [
    "#Lets look at the Gender Column.\n",
    "df['Gender'].unique()"
   ]
  },
  {
   "cell_type": "code",
   "execution_count": 375,
   "id": "2b59312f-035f-4953-bd9c-af8d5121147c",
   "metadata": {},
   "outputs": [],
   "source": [
    "#Lets replace m,M,f,F,male, and female with just Male and Female.\n",
    "Gender_correction = {\n",
    "    'M':'Male',\n",
    "    'F':'Female',\n",
    "    'm':'Male',\n",
    "    'f':'Female',\n",
    "    'male':'Male',\n",
    "    'female':'Female'\n",
    "}\n",
    "\n",
    "for i in range(len(df)):\n",
    "    if (df.at[i, 'Gender'] == 'M') | (df.at[i, 'Gender'] == 'm') | (df.at[i, 'Gender'] == 'male'):\n",
    "        incorrect_male = df.at[i, 'Gender']\n",
    "        if incorrect_male in Gender_correction:\n",
    "            df.at[i, 'Gender'] = Gender_correction[incorrect_male]\n",
    "    elif (df.at[i, 'Gender'] == 'F') | (df.at[i, 'Gender'] == 'f') | (df.at[i, 'Gender'] == 'female'):\n",
    "        incorrect_female = df.at[i, 'Gender']\n",
    "        if incorrect_female in Gender_correction:\n",
    "            df.at[i, 'Gender'] = Gender_correction[incorrect_female]"
   ]
  },
  {
   "cell_type": "code",
   "execution_count": 376,
   "id": "6282b2d5-33c3-4135-b529-d4d934fbb30a",
   "metadata": {},
   "outputs": [
    {
     "data": {
      "text/plain": [
       "array(['Male', 'Female', nan, ' '], dtype=object)"
      ]
     },
     "execution_count": 376,
     "metadata": {},
     "output_type": "execute_result"
    }
   ],
   "source": [
    "df['Gender'].unique()"
   ]
  },
  {
   "cell_type": "code",
   "execution_count": 377,
   "id": "bab29884-6200-42f0-a792-eda0f2aaf9e1",
   "metadata": {},
   "outputs": [],
   "source": [
    "import random\n",
    "\n",
    "# Define the relationship-to-gender mapping\n",
    "relationship_to_gender = {\n",
    "    'Head': 'Male',           # Assuming 'Head' is typically male in this context\n",
    "    'Son': 'Male',\n",
    "    'Husband': 'Male',\n",
    "    'Daughter': 'Female',\n",
    "    'Wife': 'Female',\n",
    "    'Grandson': 'Male',\n",
    "    'Niece': 'Female',\n",
    "    'Nephew': 'Male',\n",
    "    'Step-Daughter': 'Female',\n",
    "    'Granddaughter': 'Female',\n",
    "    'Step-Son': 'Male',\n",
    "    'Adopted Daughter': 'Female',\n",
    "    'Daughter-in-law': 'Female',\n",
    "    'Adopted Son': 'Male'\n",
    "}\n",
    "\n",
    "# Calculate the distribution of genders\n",
    "gender_distribution = df['Gender'].value_counts(normalize=True)\n",
    "male_ratio = gender_distribution.get('Male', 0.5)  # Default to 0.5 if 'Male' is not present\n",
    "female_ratio = gender_distribution.get('Female', 0.5)  # Default to 0.5 if 'Female' is not present\n",
    "\n",
    "def map_relationship_to_gender(row):\n",
    "    if pd.isnull(row['Gender']):\n",
    "        relationship = row['Relationship to Head of House']\n",
    "        if relationship in relationship_to_gender:\n",
    "            return relationship_to_gender[relationship]\n",
    "        elif relationship in ['Partner', 'Sibling', 'Lodger', 'Visitor']:\n",
    "            # Assign gender based on the distribution\n",
    "            return 'Male' if random.random() < male_ratio else 'Female'\n",
    "    return row['Gender']\n",
    "\n",
    "# Apply the function to the DataFrame\n",
    "df['Gender'] = df.apply(map_relationship_to_gender, axis=1)"
   ]
  },
  {
   "cell_type": "code",
   "execution_count": 378,
   "id": "26916678-3e52-4eb7-9fc3-bea38ed80f8f",
   "metadata": {},
   "outputs": [
    {
     "data": {
      "text/plain": [
       "6381    Deborah\n",
       "Name: First Name, dtype: object"
      ]
     },
     "execution_count": 378,
     "metadata": {},
     "output_type": "execute_result"
    }
   ],
   "source": [
    "#Their is one entry that is blank for gender.\n",
    "df.loc[df['Gender'] == ' ', 'First Name']"
   ]
  },
  {
   "cell_type": "code",
   "execution_count": 379,
   "id": "0e5822fa-74d9-40da-bfde-41cd997e9863",
   "metadata": {},
   "outputs": [],
   "source": [
    "#Since their is only 1 blank entry for gender we can enter the Gender manaully.\n",
    "#Deborah is a girls name. Therefore the Gender should be Female.\n",
    "df.loc[df['Gender'] == ' ', 'Gender'] = 'Female'"
   ]
  },
  {
   "cell_type": "code",
   "execution_count": 380,
   "id": "cb5f6165-6005-49cf-a6d4-7e3551a819a4",
   "metadata": {},
   "outputs": [
    {
     "data": {
      "text/plain": [
       "0"
      ]
     },
     "execution_count": 380,
     "metadata": {},
     "output_type": "execute_result"
    }
   ],
   "source": [
    "df['Gender'].isna().sum()"
   ]
  },
  {
   "cell_type": "code",
   "execution_count": 381,
   "id": "84a114fc-d931-4d1b-bf7b-999ba444ab11",
   "metadata": {},
   "outputs": [
    {
     "data": {
      "text/plain": [
       "Series([], Name: First Name, dtype: object)"
      ]
     },
     "execution_count": 381,
     "metadata": {},
     "output_type": "execute_result"
    }
   ],
   "source": [
    "df.loc[df['Gender'].isnull(), 'First Name']"
   ]
  },
  {
   "cell_type": "code",
   "execution_count": 382,
   "id": "4f4b2afd-1f75-484e-9919-36a0997da2fd",
   "metadata": {},
   "outputs": [],
   "source": [
    "#Sian is a girl name so gender must be female\n",
    "df.loc[df['Gender'].isnull(), 'Gender'] = 'Female'"
   ]
  },
  {
   "cell_type": "markdown",
   "id": "4a4737fa-88d9-4a64-93ab-1564e29209dc",
   "metadata": {},
   "source": [
    "### Infirmity"
   ]
  },
  {
   "cell_type": "code",
   "execution_count": 383,
   "id": "8a6f4417-637e-4ab4-8eb0-069ed0f43f70",
   "metadata": {},
   "outputs": [
    {
     "data": {
      "text/plain": [
       "array([nan, 'Physical Disability', 'Blind', ' ', 'Disabled',\n",
       "       'Mental Disability', 'Deaf', 'Unknown Infection'], dtype=object)"
      ]
     },
     "execution_count": 383,
     "metadata": {},
     "output_type": "execute_result"
    }
   ],
   "source": [
    "#Lets check the data for infirmity.\n",
    "df['Infirmity'].unique()"
   ]
  },
  {
   "cell_type": "code",
   "execution_count": 384,
   "id": "2aadffa3-13e9-4638-8863-a4f5bab1162e",
   "metadata": {},
   "outputs": [],
   "source": [
    "#If their is no infirmity that means the person is healthy.\n",
    "df.loc[df['Infirmity'].isnull(), 'Infirmity'] = 'Healthy'"
   ]
  },
  {
   "cell_type": "code",
   "execution_count": 385,
   "id": "2ff5d023-8cf6-419e-bc43-30ff9e4ec877",
   "metadata": {},
   "outputs": [
    {
     "data": {
      "text/plain": [
       "False"
      ]
     },
     "execution_count": 385,
     "metadata": {},
     "output_type": "execute_result"
    }
   ],
   "source": [
    "df['Infirmity'].isnull().any()"
   ]
  },
  {
   "cell_type": "code",
   "execution_count": 386,
   "id": "29db4b3d-bcd5-4927-aa5f-0781623de854",
   "metadata": {},
   "outputs": [],
   "source": [
    "df.loc[df['Infirmity'] == ' ', 'Infirmity'] = 'Undeclared'"
   ]
  },
  {
   "cell_type": "markdown",
   "id": "c140e868-0a8a-4697-8a65-f059dea2ab5f",
   "metadata": {},
   "source": [
    "### Religion"
   ]
  },
  {
   "cell_type": "code",
   "execution_count": 387,
   "id": "cc2bbd5e-57ed-47ae-b24b-22417922102e",
   "metadata": {},
   "outputs": [
    {
     "data": {
      "text/plain": [
       "array([nan, 'Catholic', 'Muslim', 'Sikh', 'Christian', 'Methodist',\n",
       "       'Jewish', 'Private', ' ', 'Quaker', 'Agnostic', 'Orthodoxy'],\n",
       "      dtype=object)"
      ]
     },
     "execution_count": 387,
     "metadata": {},
     "output_type": "execute_result"
    }
   ],
   "source": [
    "df['Religion'].unique()"
   ]
  },
  {
   "cell_type": "code",
   "execution_count": 388,
   "id": "6489db85-967b-46d9-8841-bb8ed7cd9b75",
   "metadata": {},
   "outputs": [],
   "source": [
    "#The missing values for individuals under the age of 18 are replaced with ‘Undeclared’ as it is not appropriate to assume a religion for minors who may not have declared their religious affiliation yet.\n",
    "df.loc[(df['Religion'].isnull()) & (df['Age'] < 18) | (df['Religion'] == ' '), 'Religion'] = 'Undeclared'"
   ]
  },
  {
   "cell_type": "code",
   "execution_count": 389,
   "id": "54bc4b39-e35c-4bbd-8bd5-963aaaa9c2c0",
   "metadata": {},
   "outputs": [
    {
     "data": {
      "text/plain": [
       "2733"
      ]
     },
     "execution_count": 389,
     "metadata": {},
     "output_type": "execute_result"
    }
   ],
   "source": [
    "df['Religion'].isna().sum()"
   ]
  },
  {
   "cell_type": "code",
   "execution_count": 390,
   "id": "5573c6db-b647-4f11-ac6e-596c9cddc6a5",
   "metadata": {},
   "outputs": [
    {
     "data": {
      "text/plain": [
       "0"
      ]
     },
     "execution_count": 390,
     "metadata": {},
     "output_type": "execute_result"
    }
   ],
   "source": [
    "df.loc[df['Religion'] == ' ', 'Religion'].count()"
   ]
  },
  {
   "cell_type": "code",
   "execution_count": 391,
   "id": "3eaf6e70-fd5c-4df0-80a0-3cd2012c7a42",
   "metadata": {},
   "outputs": [],
   "source": [
    "df.loc[df['Religion'].isnull(),'Religion'] = 'Atheist'"
   ]
  },
  {
   "cell_type": "code",
   "execution_count": 392,
   "id": "bb6bf22c-4bd4-4a67-8fa2-37d1d10929a1",
   "metadata": {},
   "outputs": [
    {
     "data": {
      "text/plain": [
       "array(['Atheist', 'Catholic', 'Muslim', 'Undeclared', 'Sikh', 'Christian',\n",
       "       'Methodist', 'Jewish', 'Private', 'Quaker', 'Agnostic',\n",
       "       'Orthodoxy'], dtype=object)"
      ]
     },
     "execution_count": 392,
     "metadata": {},
     "output_type": "execute_result"
    }
   ],
   "source": [
    "df['Religion'].unique()"
   ]
  },
  {
   "cell_type": "code",
   "execution_count": 393,
   "id": "816c1131-66bc-40c2-aa4c-07bc2d1f3ce1",
   "metadata": {},
   "outputs": [],
   "source": [
    "df.loc[df['Religion'] == 'Private', 'Religion'] = 'Undeclared'"
   ]
  },
  {
   "cell_type": "code",
   "execution_count": 394,
   "id": "0680b0c9-9609-4a84-a364-5a55e919e2ba",
   "metadata": {},
   "outputs": [
    {
     "data": {
      "text/plain": [
       "Religion\n",
       "Atheist       2733\n",
       "Christian     1829\n",
       "Undeclared    1823\n",
       "Catholic       928\n",
       "Methodist      563\n",
       "Muslim         122\n",
       "Sikh            58\n",
       "Jewish          23\n",
       "Orthodoxy        3\n",
       "Quaker           2\n",
       "Agnostic         1\n",
       "Name: count, dtype: int64"
      ]
     },
     "execution_count": 394,
     "metadata": {},
     "output_type": "execute_result"
    }
   ],
   "source": [
    "df['Religion'].value_counts()"
   ]
  },
  {
   "cell_type": "markdown",
   "id": "5b01f5f1-c840-41b9-a5d4-b8869500ea49",
   "metadata": {},
   "source": [
    "### Occupation"
   ]
  },
  {
   "cell_type": "code",
   "execution_count": 395,
   "id": "63171250-6ec9-42b2-9f38-0266c3c9cf02",
   "metadata": {},
   "outputs": [
    {
     "data": {
      "text/plain": [
       "40"
      ]
     },
     "execution_count": 395,
     "metadata": {},
     "output_type": "execute_result"
    }
   ],
   "source": [
    "df['Occupation'].isna().sum()"
   ]
  },
  {
   "cell_type": "code",
   "execution_count": 396,
   "id": "549551c4-f4b7-4033-8307-f823ad5e9f9a",
   "metadata": {},
   "outputs": [],
   "source": [
    "for i in range(len(df)):\n",
    "    if pd.isna(df.at[i, 'Occupation']):\n",
    "        if (df.at[i, 'Age'] >= 65):\n",
    "            df.at[i, 'Occupation'] = 'Retired'\n",
    "    elif ((df.at[i, 'Occupation'] == 'Unemployed') & (df.at[i, 'Age'] >= 65)):\n",
    "        df.at[i, 'Occupation'] = 'Retired'"
   ]
  },
  {
   "cell_type": "code",
   "execution_count": 397,
   "id": "1f5a18cd-7213-4bae-9f80-9e2b50c7e4fd",
   "metadata": {},
   "outputs": [
    {
     "name": "stderr",
     "output_type": "stream",
     "text": [
      "C:\\Users\\sleek\\AppData\\Local\\Temp\\ipykernel_6708\\3289499977.py:18: SettingWithCopyWarning: \n",
      "A value is trying to be set on a copy of a slice from a DataFrame.\n",
      "Try using .loc[row_indexer,col_indexer] = value instead\n",
      "\n",
      "See the caveats in the documentation: https://pandas.pydata.org/pandas-docs/stable/user_guide/indexing.html#returning-a-view-versus-a-copy\n",
      "  df_non_missing_occupation[column] = label_encoders[column].fit_transform(df_non_missing_occupation[column])\n",
      "C:\\Users\\sleek\\AppData\\Local\\Temp\\ipykernel_6708\\3289499977.py:19: SettingWithCopyWarning: \n",
      "A value is trying to be set on a copy of a slice from a DataFrame.\n",
      "Try using .loc[row_indexer,col_indexer] = value instead\n",
      "\n",
      "See the caveats in the documentation: https://pandas.pydata.org/pandas-docs/stable/user_guide/indexing.html#returning-a-view-versus-a-copy\n",
      "  df_missing_occupation[column] = label_encoders[column].transform(df_missing_occupation[column])\n",
      "C:\\Users\\sleek\\AppData\\Local\\Temp\\ipykernel_6708\\3289499977.py:18: SettingWithCopyWarning: \n",
      "A value is trying to be set on a copy of a slice from a DataFrame.\n",
      "Try using .loc[row_indexer,col_indexer] = value instead\n",
      "\n",
      "See the caveats in the documentation: https://pandas.pydata.org/pandas-docs/stable/user_guide/indexing.html#returning-a-view-versus-a-copy\n",
      "  df_non_missing_occupation[column] = label_encoders[column].fit_transform(df_non_missing_occupation[column])\n",
      "C:\\Users\\sleek\\AppData\\Local\\Temp\\ipykernel_6708\\3289499977.py:19: SettingWithCopyWarning: \n",
      "A value is trying to be set on a copy of a slice from a DataFrame.\n",
      "Try using .loc[row_indexer,col_indexer] = value instead\n",
      "\n",
      "See the caveats in the documentation: https://pandas.pydata.org/pandas-docs/stable/user_guide/indexing.html#returning-a-view-versus-a-copy\n",
      "  df_missing_occupation[column] = label_encoders[column].transform(df_missing_occupation[column])\n",
      "C:\\Users\\sleek\\AppData\\Local\\Temp\\ipykernel_6708\\3289499977.py:18: SettingWithCopyWarning: \n",
      "A value is trying to be set on a copy of a slice from a DataFrame.\n",
      "Try using .loc[row_indexer,col_indexer] = value instead\n",
      "\n",
      "See the caveats in the documentation: https://pandas.pydata.org/pandas-docs/stable/user_guide/indexing.html#returning-a-view-versus-a-copy\n",
      "  df_non_missing_occupation[column] = label_encoders[column].fit_transform(df_non_missing_occupation[column])\n",
      "C:\\Users\\sleek\\AppData\\Local\\Temp\\ipykernel_6708\\3289499977.py:19: SettingWithCopyWarning: \n",
      "A value is trying to be set on a copy of a slice from a DataFrame.\n",
      "Try using .loc[row_indexer,col_indexer] = value instead\n",
      "\n",
      "See the caveats in the documentation: https://pandas.pydata.org/pandas-docs/stable/user_guide/indexing.html#returning-a-view-versus-a-copy\n",
      "  df_missing_occupation[column] = label_encoders[column].transform(df_missing_occupation[column])\n",
      "C:\\Users\\sleek\\AppData\\Local\\Temp\\ipykernel_6708\\3289499977.py:18: SettingWithCopyWarning: \n",
      "A value is trying to be set on a copy of a slice from a DataFrame.\n",
      "Try using .loc[row_indexer,col_indexer] = value instead\n",
      "\n",
      "See the caveats in the documentation: https://pandas.pydata.org/pandas-docs/stable/user_guide/indexing.html#returning-a-view-versus-a-copy\n",
      "  df_non_missing_occupation[column] = label_encoders[column].fit_transform(df_non_missing_occupation[column])\n",
      "C:\\Users\\sleek\\AppData\\Local\\Temp\\ipykernel_6708\\3289499977.py:19: SettingWithCopyWarning: \n",
      "A value is trying to be set on a copy of a slice from a DataFrame.\n",
      "Try using .loc[row_indexer,col_indexer] = value instead\n",
      "\n",
      "See the caveats in the documentation: https://pandas.pydata.org/pandas-docs/stable/user_guide/indexing.html#returning-a-view-versus-a-copy\n",
      "  df_missing_occupation[column] = label_encoders[column].transform(df_missing_occupation[column])\n",
      "C:\\Users\\sleek\\AppData\\Local\\Temp\\ipykernel_6708\\3289499977.py:22: SettingWithCopyWarning: \n",
      "A value is trying to be set on a copy of a slice from a DataFrame.\n",
      "Try using .loc[row_indexer,col_indexer] = value instead\n",
      "\n",
      "See the caveats in the documentation: https://pandas.pydata.org/pandas-docs/stable/user_guide/indexing.html#returning-a-view-versus-a-copy\n",
      "  df_non_missing_occupation['Age'] = pd.to_numeric(df_non_missing_occupation['Age'], errors='coerce')\n",
      "C:\\Users\\sleek\\AppData\\Local\\Temp\\ipykernel_6708\\3289499977.py:23: SettingWithCopyWarning: \n",
      "A value is trying to be set on a copy of a slice from a DataFrame.\n",
      "Try using .loc[row_indexer,col_indexer] = value instead\n",
      "\n",
      "See the caveats in the documentation: https://pandas.pydata.org/pandas-docs/stable/user_guide/indexing.html#returning-a-view-versus-a-copy\n",
      "  df_missing_occupation['Age'] = pd.to_numeric(df_missing_occupation['Age'], errors='coerce')\n"
     ]
    },
    {
     "name": "stdout",
     "output_type": "stream",
     "text": [
      "                                                                     precision    recall  f1-score   support\n",
      "\n",
      "                                                 Academic librarian       0.00      0.00      0.00         0\n",
      "                                              Accommodation manager       0.00      0.00      0.00         3\n",
      "                                    Accountant, chartered certified       0.00      0.00      0.00         1\n",
      "                                   Accountant, chartered management       0.00      0.00      0.00         2\n",
      "                               Accountant, chartered public finance       0.00      0.00      0.00         2\n",
      "                                              Accounting technician       0.00      0.00      0.00         1\n",
      "                                                              Actor       0.00      0.00      0.00         1\n",
      "                                                            Actuary       0.00      0.00      0.00         0\n",
      "                                                      Acupuncturist       0.00      0.00      0.00         0\n",
      "                                       Administrator, Civil Service       0.00      0.00      0.00         2\n",
      "                                                Administrator, arts       0.00      0.00      0.00         3\n",
      "                   Administrator, charities/voluntary organisations       0.00      0.00      0.00         1\n",
      "                                           Administrator, education       0.00      0.00      0.00         1\n",
      "                                    Administrator, local government       0.00      0.00      0.00         1\n",
      "                                              Administrator, sports       0.00      0.00      0.00         4\n",
      "                                              Adult guidance worker       0.00      0.00      0.00         0\n",
      "                                                        Adult nurse       0.00      0.00      0.00         3\n",
      "                                      Advertising account executive       0.00      0.00      0.00         1\n",
      "                                        Advertising account planner       0.00      0.00      0.00         0\n",
      "                                             Advertising copywriter       0.00      0.00      0.00         0\n",
      "                                                      Advice worker       0.00      0.00      0.00         1\n",
      "                                              Aeronautical engineer       0.00      0.00      0.00         1\n",
      "                                            Agricultural consultant       0.00      0.00      0.00         2\n",
      "                                              Agricultural engineer       0.00      0.00      0.00         1\n",
      "                                                         Aid worker       0.00      0.00      0.00         2\n",
      "                                                         Air broker       0.00      0.00      0.00         0\n",
      "                                                     Air cabin crew       0.00      0.00      0.00         2\n",
      "                                             Air traffic controller       0.00      0.00      0.00         2\n",
      "                                                      Airline pilot       0.00      0.00      0.00         4\n",
      "                                                   Ambulance person       0.00      0.00      0.00         1\n",
      "                                             Amenity horticulturist       0.00      0.00      0.00         2\n",
      "                                                 Analytical chemist       0.00      0.00      0.00         3\n",
      "                                                Animal nutritionist       0.00      0.00      0.00         1\n",
      "                                                Animal technologist       0.00      0.00      0.00         3\n",
      "                                                           Animator       0.00      0.00      0.00         4\n",
      "                                                    Arboriculturist       0.00      0.00      0.00         5\n",
      "                                                      Archaeologist       0.00      0.00      0.00         3\n",
      "                                         Architectural technologist       0.00      0.00      0.00         1\n",
      "                                                          Archivist       0.00      0.00      0.00         1\n",
      "              Armed forces logistics/support/administrative officer       0.00      0.00      0.00         1\n",
      "                                   Armed forces operational officer       0.00      0.00      0.00         1\n",
      "                                     Armed forces technical officer       0.00      0.00      0.00         1\n",
      "                        Armed forces training and education officer       0.00      0.00      0.00         4\n",
      "                                                Art gallery manager       0.00      0.00      0.00         2\n",
      "                                                             Artist       0.00      0.00      0.00         1\n",
      "                                                 Arts administrator       0.00      0.00      0.00         2\n",
      "                                           Arts development officer       0.00      0.00      0.00         1\n",
      "                                                Associate Professor       0.00      0.00      0.00         0\n",
      "                                             Audiological scientist       0.00      0.00      0.00         2\n",
      "                                                Automotive engineer       0.00      0.00      0.00         0\n",
      "                                                             Banker       0.00      0.00      0.00         0\n",
      "                                                            Barista       0.00      0.00      0.00         1\n",
      "                                                          Barrister       0.00      0.00      0.00         1\n",
      "                                                  Barrister's clerk       0.00      0.00      0.00         0\n",
      "                                               Biochemist, clinical       0.00      0.00      0.00         3\n",
      "                                                Biomedical engineer       0.00      0.00      0.00         5\n",
      "                                               Biomedical scientist       0.00      0.00      0.00         1\n",
      "                                                       Bonds trader       0.00      0.00      0.00         3\n",
      "                                                         Bookseller       0.00      0.00      0.00         2\n",
      "                                                 Broadcast engineer       0.00      0.00      0.00         2\n",
      "                                               Broadcast journalist       0.00      0.00      0.00         2\n",
      "                                                Broadcast presenter       0.00      0.00      0.00         4\n",
      "                                          Building control surveyor       0.00      0.00      0.00         1\n",
      "                                         Building services engineer       0.00      0.00      0.00         0\n",
      "                                                  Building surveyor       0.00      0.00      0.00         1\n",
      "                                                         Cabin crew       0.00      0.00      0.00         1\n",
      "                                                Call centre manager       0.00      0.00      0.00         1\n",
      "                                                    Camera operator       0.00      0.00      0.00         0\n",
      "                                                    Careers adviser       0.00      0.00      0.00         1\n",
      "                                        Careers information officer       0.00      0.00      0.00         2\n",
      "                                                       Cartographer       0.00      0.00      0.00         1\n",
      "                                                   Catering manager       0.00      0.00      0.00         1\n",
      "                                                 Charity fundraiser       0.00      0.00      0.00         1\n",
      "                                                    Charity officer       0.00      0.00      0.00         1\n",
      "                                               Chartered accountant       0.00      0.00      0.00         1\n",
      "                                     Chartered certified accountant       0.00      0.00      0.00         4\n",
      "                      Chartered legal executive (England and Wales)       0.00      0.00      0.00         1\n",
      "                                            Chartered loss adjuster       0.00      0.00      0.00         2\n",
      "                                    Chartered management accountant       0.00      0.00      0.00         3\n",
      "                                Chartered public finance accountant       0.00      0.00      0.00         0\n",
      "                                                  Chemical engineer       0.00      0.00      0.00         1\n",
      "                                            Chief Financial Officer       0.00      0.00      0.00         0\n",
      "                                            Chief Marketing Officer       0.00      0.00      0.00         1\n",
      "                                            Chief Operating Officer       0.00      0.00      0.00         1\n",
      "                                             Chief Strategy Officer       0.00      0.00      0.00         1\n",
      "                                                     Chief of Staff       0.00      0.00      0.00         2\n",
      "                                                              Child       1.00      0.99      0.99        83\n",
      "                                              Child psychotherapist       0.00      0.00      0.00         1\n",
      "                                                        Chiropodist       0.00      0.00      0.00         0\n",
      "                                                       Chiropractor       0.00      0.00      0.00         0\n",
      "                                        Civil Service administrator       0.00      0.00      0.00         1\n",
      "                                        Civil Service fast streamer       0.00      0.00      0.00         2\n",
      "                                         Civil engineer, consulting       0.00      0.00      0.00         2\n",
      "                                          Claims inspector/assessor       0.00      0.00      0.00         2\n",
      "                                                Clinical biochemist       0.00      0.00      0.00         1\n",
      "                                            Clinical cytogeneticist       0.00      0.00      0.00         1\n",
      "                                              Clinical embryologist       0.00      0.00      0.00         0\n",
      "                                      Clinical molecular geneticist       0.00      0.00      0.00         2\n",
      "                                              Clinical psychologist       0.00      0.00      0.00         2\n",
      "                                      Clothing/textile technologist       0.00      0.00      0.00         1\n",
      "                                                Colour technologist       0.00      0.00      0.00         1\n",
      "                                     Commercial art gallery manager       0.00      0.00      0.00         1\n",
      "                                          Commercial horticulturist       0.00      0.00      0.00         2\n",
      "                                    Commercial/residential surveyor       0.00      0.00      0.00         2\n",
      "                                               Commissioning editor       0.00      0.00      0.00         0\n",
      "                                              Community arts worker       0.00      0.00      0.00         2\n",
      "                                       Community development worker       0.00      0.00      0.00         3\n",
      "                                        Community education officer       0.00      0.00      0.00         1\n",
      "                                                  Company secretary       0.00      0.00      0.00         2\n",
      "                                                        Comptroller       0.00      0.00      0.00         0\n",
      "                                           Computer games developer       0.00      0.00      0.00         1\n",
      "                                          Conference centre manager       0.00      0.00      0.00         1\n",
      "                           Conservation officer, historic buildings       0.00      0.00      0.00         2\n",
      "                                       Conservation officer, nature       0.00      0.00      0.00         1\n",
      "                                             Conservator, furniture       0.00      0.00      0.00         6\n",
      "                                        Conservator, museum/gallery       0.00      0.00      0.00         0\n",
      "                                          Consulting civil engineer       0.00      0.00      0.00         2\n",
      "                                                         Contractor       0.00      0.00      0.00         2\n",
      "                                                               Copy       0.00      0.00      0.00         2\n",
      "                                            Copywriter, advertising       0.00      0.00      0.00         2\n",
      "                                        Corporate investment banker       0.00      0.00      0.00         1\n",
      "                                                Corporate treasurer       0.00      0.00      0.00         4\n",
      "                                           Counselling psychologist       0.00      0.00      0.00         1\n",
      "                                                         Counsellor       0.00      0.00      0.00         1\n",
      "                                                            Curator       0.00      0.00      0.00         0\n",
      "                                           Customer service manager       0.00      0.00      0.00         1\n",
      "                                                     Cytogeneticist       0.00      0.00      0.00         0\n",
      "                                     Dance movement psychotherapist       0.00      0.00      0.00         2\n",
      "                                                             Dancer       0.00      0.00      0.00         3\n",
      "                                            Data processing manager       0.00      0.00      0.00         1\n",
      "                                                     Data scientist       0.00      0.00      0.00         1\n",
      "                                             Database administrator       0.00      0.00      0.00         0\n",
      "                                Designer, blown glass/stained glass       0.00      0.00      0.00         1\n",
      "                                         Designer, ceramics/pottery       0.00      0.00      0.00         2\n",
      "                                       Designer, exhibition/display       0.00      0.00      0.00         1\n",
      "                                                Designer, furniture       0.00      0.00      0.00         0\n",
      "                                       Designer, industrial/product       0.00      0.00      0.00         1\n",
      "                                         Designer, interior/spatial       0.00      0.00      0.00         3\n",
      "                                                Designer, jewellery       0.00      0.00      0.00         2\n",
      "                                               Designer, multimedia       0.00      0.00      0.00         3\n",
      "                                      Designer, television/film set       0.00      0.00      0.00         1\n",
      "                                                  Designer, textile       0.00      0.00      0.00         1\n",
      "                                      Development worker, community       0.00      0.00      0.00         0\n",
      "                              Development worker, international aid       0.00      0.00      0.00         1\n",
      "                                                          Dietitian       0.00      0.00      0.00         1\n",
      "                            Diplomatic Services operational officer       0.00      0.00      0.00         1\n",
      "                                                Dispensing optician       0.00      0.00      0.00         4\n",
      "                                           Doctor, general practice       0.00      0.00      0.00         7\n",
      "                                                     Dramatherapist       0.00      0.00      0.00         4\n",
      "                                                Early years teacher       0.00      0.00      0.00         1\n",
      "                                                          Ecologist       0.00      0.00      0.00         4\n",
      "                                                          Economist       0.00      0.00      0.00         1\n",
      "                                              Editor, commissioning       0.00      0.00      0.00         1\n",
      "                                                 Editor, film/video       0.00      0.00      0.00         0\n",
      "                                          Editor, magazine features       0.00      0.00      0.00         1\n",
      "                                                Editorial assistant       0.00      0.00      0.00         1\n",
      "                                            Education administrator       0.00      0.00      0.00         2\n",
      "                                   Education officer, environmental       0.00      0.00      0.00         3\n",
      "                                           Educational psychologist       0.00      0.00      0.00         2\n",
      "                                                Electrical engineer       0.00      0.00      0.00         2\n",
      "                                               Electronics engineer       0.00      0.00      0.00         2\n",
      "                                             Embryologist, clinical       0.00      0.00      0.00         1\n",
      "                              Emergency planning/management officer       0.00      0.00      0.00         1\n",
      "                                                    Energy engineer       0.00      0.00      0.00         1\n",
      "                                                     Energy manager       0.00      0.00      0.00         2\n",
      "                                             Engineer, aeronautical       0.00      0.00      0.00         3\n",
      "                                             Engineer, agricultural       0.00      0.00      0.00         2\n",
      "                                               Engineer, automotive       0.00      0.00      0.00         1\n",
      "                                               Engineer, biomedical       0.00      0.00      0.00         2\n",
      "                                Engineer, broadcasting (operations)       0.00      0.00      0.00         4\n",
      "                                        Engineer, building services       0.00      0.00      0.00         2\n",
      "                                                 Engineer, chemical       0.00      0.00      0.00         2\n",
      "                                       Engineer, civil (consulting)       0.00      0.00      0.00         0\n",
      "                                      Engineer, civil (contracting)       0.00      0.00      0.00         1\n",
      "                                           Engineer, communications       0.00      0.00      0.00         1\n",
      "                                                 Engineer, drilling       0.00      0.00      0.00         2\n",
      "                                               Engineer, electrical       0.00      0.00      0.00         2\n",
      "                                                   Engineer, energy       0.00      0.00      0.00         1\n",
      "                                              Engineer, maintenance       0.00      0.00      0.00         2\n",
      "                                         Engineer, maintenance (IT)       0.00      0.00      0.00         2\n",
      "                                            Engineer, manufacturing       0.00      0.00      0.00         2\n",
      "                                    Engineer, manufacturing systems       0.00      0.00      0.00         0\n",
      "                                                Engineer, materials       0.00      0.00      0.00         2\n",
      "                                                   Engineer, mining       0.00      0.00      0.00         0\n",
      "                                                Engineer, petroleum       0.00      0.00      0.00         2\n",
      "                                               Engineer, production       0.00      0.00      0.00         2\n",
      "                                                     Engineer, site       0.00      0.00      0.00         5\n",
      "                                               Engineer, structural       0.00      0.00      0.00         0\n",
      "                                          Engineer, technical sales       0.00      0.00      0.00         1\n",
      "                                                    Engineer, water       0.00      0.00      0.00         1\n",
      "                                              Engineering geologist       0.00      0.00      0.00         1\n",
      "                              English as a foreign language teacher       0.00      0.00      0.00         1\n",
      "                               English as a second language teacher       0.00      0.00      0.00         0\n",
      "                                           Environmental consultant       0.00      0.00      0.00         0\n",
      "                                    Environmental education officer       0.00      0.00      0.00         1\n",
      "                                  Environmental health practitioner       0.00      0.00      0.00         0\n",
      "                                              Environmental manager       0.00      0.00      0.00         2\n",
      "                                     Equality and diversity officer       0.00      0.00      0.00         2\n",
      "                                                    Equities trader       0.00      0.00      0.00         2\n",
      "                                                         Ergonomist       0.00      0.00      0.00         1\n",
      "                                                       Estate agent       0.00      0.00      0.00         2\n",
      "                                          Estate manager/land agent       0.00      0.00      0.00         1\n",
      "                                                    Event organiser       0.00      0.00      0.00         0\n",
      "                                              Exercise physiologist       0.00      0.00      0.00         1\n",
      "                                                Exhibition designer       0.00      0.00      0.00         2\n",
      "                                Exhibitions officer, museum/gallery       0.00      0.00      0.00         1\n",
      "                                                 Facilities manager       0.00      0.00      0.00         3\n",
      "                                                       Farm manager       0.00      0.00      0.00         0\n",
      "                                                   Fashion designer       0.00      0.00      0.00         2\n",
      "                                                 Field seismologist       0.00      0.00      0.00         2\n",
      "                                               Field trials officer       0.00      0.00      0.00         5\n",
      "                                                  Film/video editor       0.00      0.00      0.00         3\n",
      "                                                  Financial adviser       0.00      0.00      0.00         0\n",
      "                                               Financial controller       0.00      0.00      0.00         2\n",
      "                                                  Financial manager       0.00      0.00      0.00         1\n",
      "                                             Financial risk analyst       0.00      0.00      0.00         0\n",
      "                                                   Financial trader       0.00      0.00      0.00         1\n",
      "                                                        Fine artist       0.00      0.00      0.00         2\n",
      "                                                        Firefighter       0.00      0.00      0.00         2\n",
      "                                                  Fish farm manager       0.00      0.00      0.00         3\n",
      "                                             Fitness centre manager       0.00      0.00      0.00         2\n",
      "                                                  Food technologist       0.00      0.00      0.00         2\n",
      "                                              Forensic psychologist       0.00      0.00      0.00         3\n",
      "                                                 Forensic scientist       0.00      0.00      0.00         2\n",
      "                                            Forest/woodland manager       0.00      0.00      0.00         4\n",
      "                                                  Freight forwarder       0.00      0.00      0.00         4\n",
      "                                                 Furniture designer       0.00      0.00      0.00         2\n",
      "                                         Further education lecturer       0.00      0.00      0.00         1\n",
      "                                       Garment/textile technologist       0.00      0.00      0.00         2\n",
      "                                            General practice doctor       0.00      0.00      0.00         3\n",
      "                                              Geneticist, molecular       0.00      0.00      0.00         1\n",
      "                                                         Geochemist       0.00      0.00      0.00         1\n",
      "                           Geographical information systems officer       0.00      0.00      0.00         1\n",
      "                                             Geologist, engineering       0.00      0.00      0.00         1\n",
      "                                                Geologist, wellsite       0.00      0.00      0.00         2\n",
      "                                                       Geoscientist       0.00      0.00      0.00         1\n",
      "                                              Glass blower/designer       0.00      0.00      0.00         1\n",
      "                                 Government social research officer       0.00      0.00      0.00         2\n",
      "                                                   Graphic designer       0.00      0.00      0.00         2\n",
      "                                          Health and safety adviser       0.00      0.00      0.00         2\n",
      "                                        Health and safety inspector       0.00      0.00      0.00         1\n",
      "                                                   Health physicist       0.00      0.00      0.00         2\n",
      "                                        Health promotion specialist       0.00      0.00      0.00         2\n",
      "                                             Health service manager       0.00      0.00      0.00         0\n",
      "                                                          Herbalist       0.00      0.00      0.00         1\n",
      "                                                   Heritage manager       0.00      0.00      0.00         2\n",
      "                                                      Herpetologist       0.00      0.00      0.00         3\n",
      "                                   Higher education careers adviser       0.00      0.00      0.00         2\n",
      "                  Historic buildings inspector/conservation officer       0.00      0.00      0.00         1\n",
      "                                             Holiday representative       0.00      0.00      0.00         1\n",
      "                                                          Homeopath       0.00      0.00      0.00         2\n",
      "                                           Horticultural consultant       0.00      0.00      0.00         3\n",
      "                                            Horticulturist, amenity       0.00      0.00      0.00         2\n",
      "                                         Horticulturist, commercial       0.00      0.00      0.00         3\n",
      "                                                    Hospital doctor       0.00      0.00      0.00         2\n",
      "                                                Hospital pharmacist       0.00      0.00      0.00         2\n",
      "                                                      Hotel manager       0.00      0.00      0.00         2\n",
      "                                            Housing manager/officer       0.00      0.00      0.00         3\n",
      "                                                     Hydrogeologist       0.00      0.00      0.00         2\n",
      "                                              Hydrographic surveyor       0.00      0.00      0.00         1\n",
      "                                                        Hydrologist       0.00      0.00      0.00         4\n",
      "                                                      IT consultant       0.00      0.00      0.00         0\n",
      "                                              IT sales professional       0.00      0.00      0.00         2\n",
      "                                       IT technical support officer       0.00      0.00      0.00         0\n",
      "                                                         IT trainer       0.00      0.00      0.00         0\n",
      "                                                        Illustrator       0.00      0.00      0.00         3\n",
      "                                                Immigration officer       0.00      0.00      0.00         0\n",
      "                                                       Immunologist       0.00      0.00      0.00         2\n",
      "                                                   Industrial buyer       0.00      0.00      0.00         2\n",
      "                                        Industrial/product designer       0.00      0.00      0.00         2\n",
      "                                                Information officer       0.00      0.00      0.00         1\n",
      "                                        Information systems manager       0.00      0.00      0.00         0\n",
      "                                          Insurance account manager       0.00      0.00      0.00         0\n",
      "                                                   Insurance broker       0.00      0.00      0.00         1\n",
      "                                           Insurance claims handler       0.00      0.00      0.00         4\n",
      "                                            Insurance risk surveyor       0.00      0.00      0.00         2\n",
      "                                              Insurance underwriter       0.00      0.00      0.00         2\n",
      "                                               Intelligence analyst       0.00      0.00      0.00         2\n",
      "                                      Interior and spatial designer       0.00      0.00      0.00         0\n",
      "                               International aid/development worker       0.00      0.00      0.00         2\n",
      "                                                        Interpreter       0.00      0.00      0.00         1\n",
      "                                                 Investment analyst       0.00      0.00      0.00         2\n",
      "                                       Investment banker, corporate       0.00      0.00      0.00         2\n",
      "                                     Investment banker, operational       0.00      0.00      0.00         0\n",
      "                                                 Jewellery designer       0.00      0.00      0.00         1\n",
      "                                           Journalist, broadcasting       0.00      0.00      0.00         1\n",
      "                                               Journalist, magazine       0.00      0.00      0.00         5\n",
      "                                              Journalist, newspaper       0.00      0.00      0.00         1\n",
      "                                                               Land       0.00      0.00      0.00         2\n",
      "                                                Landscape architect       0.00      0.00      0.00         3\n",
      "                                                             Lawyer       0.00      0.00      0.00         3\n",
      "                                          Learning disability nurse       0.00      0.00      0.00         1\n",
      "                                                    Learning mentor       0.00      0.00      0.00         3\n",
      "                                         Lecturer, higher education       0.00      0.00      0.00         0\n",
      "                                                    Legal executive       0.00      0.00      0.00         1\n",
      "                                                    Legal secretary       0.00      0.00      0.00         1\n",
      "                                             Leisure centre manager       0.00      0.00      0.00         2\n",
      "                                                      Lexicographer       0.00      0.00      0.00         2\n",
      "                                                  Librarian, public       0.00      0.00      0.00         1\n",
      "                                               Licensed conveyancer       0.00      0.00      0.00         2\n",
      "                       Lighting technician, broadcasting/film/video       0.00      0.00      0.00         0\n",
      "                                                           Lobbyist       0.00      0.00      0.00         3\n",
      "                                           Local government officer       0.00      0.00      0.00         1\n",
      "                                                   Location manager       0.00      0.00      0.00         3\n",
      "                                 Logistics and distribution manager       0.00      0.00      0.00         1\n",
      "                                           Magazine features editor       0.00      0.00      0.00         5\n",
      "                                                Magazine journalist       0.00      0.00      0.00         3\n",
      "                                               Maintenance engineer       0.00      0.00      0.00         1\n",
      "                                                               Make       0.00      0.00      0.00         1\n",
      "                                              Management consultant       0.00      0.00      0.00         2\n",
      "                                             Manufacturing engineer       0.00      0.00      0.00         4\n",
      "                                     Manufacturing systems engineer       0.00      0.00      0.00         1\n",
      "                                                  Market researcher       0.00      0.00      0.00         2\n",
      "                                                Marketing executive       0.00      0.00      0.00         1\n",
      "                                                 Materials engineer       0.00      0.00      0.00         1\n",
      "                                                Mechanical engineer       0.00      0.00      0.00         2\n",
      "                                                        Media buyer       0.00      0.00      0.00         0\n",
      "                                                      Media planner       0.00      0.00      0.00         2\n",
      "                                                Medical illustrator       0.00      0.00      0.00         2\n",
      "                                                  Medical physicist       0.00      0.00      0.00         3\n",
      "                                       Medical sales representative       0.00      0.00      0.00         1\n",
      "                                                Mental health nurse       0.00      0.00      0.00         3\n",
      "                                               Merchandiser, retail       0.00      0.00      0.00         2\n",
      "                                              Merchant navy officer       0.00      0.00      0.00         1\n",
      "                                                       Metallurgist       0.00      0.00      0.00         1\n",
      "                                                      Meteorologist       0.00      0.00      0.00         0\n",
      "                                                     Microbiologist       0.00      0.00      0.00         0\n",
      "                                                            Midwife       0.00      0.00      0.00         0\n",
      "                                                  Minerals surveyor       0.00      0.00      0.00         4\n",
      "                                                    Mining engineer       0.00      0.00      0.00         1\n",
      "                                                          Mudlogger       0.00      0.00      0.00         2\n",
      "                                              Multimedia specialist       0.00      0.00      0.00         1\n",
      "                                         Museum/gallery conservator       0.00      0.00      0.00         4\n",
      "                                             Museum/gallery curator       0.00      0.00      0.00         0\n",
      "                                                    Music therapist       0.00      0.00      0.00         4\n",
      "                                                           Musician       0.00      0.00      0.00         1\n",
      "                                        Nature conservation officer       0.00      0.00      0.00         0\n",
      "                                                    Naval architect       0.00      0.00      0.00         1\n",
      "                                               Newspaper journalist       0.00      0.00      0.00         2\n",
      "                                                       Nurse, adult       0.00      0.00      0.00         2\n",
      "                                                  Nurse, children's       0.00      0.00      0.00         4\n",
      "                                         Nurse, learning disability       0.00      0.00      0.00         1\n",
      "                                               Nurse, mental health       0.00      0.00      0.00         1\n",
      "                                             Occupational hygienist       0.00      0.00      0.00         2\n",
      "                                          Occupational psychologist       0.00      0.00      0.00         3\n",
      "                                             Occupational therapist       0.00      0.00      0.00         1\n",
      "                                                      Oceanographer       0.00      0.00      0.00         1\n",
      "                                                     Office manager       0.00      0.00      0.00         2\n",
      "                                                         Oncologist       0.00      0.00      0.00         0\n",
      "                                      Operational investment banker       0.00      0.00      0.00         1\n",
      "                                             Operational researcher       0.00      0.00      0.00         3\n",
      "                                               Operations geologist       0.00      0.00      0.00         4\n",
      "                                               Optician, dispensing       0.00      0.00      0.00         1\n",
      "                                                        Optometrist       0.00      0.00      0.00         2\n",
      "                                                         Orthoptist       0.00      0.00      0.00         1\n",
      "                                                          Osteopath       0.00      0.00      0.00         1\n",
      "                               Outdoor activities/education manager       0.00      0.00      0.00         2\n",
      "                                                   Paediatric nurse       0.00      0.00      0.00         1\n",
      "                                                          Paramedic       0.00      0.00      0.00         1\n",
      "                                        Passenger transport manager       0.00      0.00      0.00         2\n",
      "                                                    Patent attorney       0.00      0.00      0.00         3\n",
      "                                                    Patent examiner       0.00      0.00      0.00         3\n",
      "                                                        Pathologist       0.00      0.00      0.00         3\n",
      "                                             Pension scheme manager       0.00      0.00      0.00         1\n",
      "                                                Pensions consultant       0.00      0.00      0.00         3\n",
      "                                                 Personal assistant       0.00      0.00      0.00         3\n",
      "                                                  Personnel officer       0.00      0.00      0.00         0\n",
      "                                                 Petroleum engineer       0.00      0.00      0.00         0\n",
      "                                                        PhD Student       0.00      0.00      0.00         6\n",
      "                                              Pharmacist, community       0.00      0.00      0.00         1\n",
      "                                               Pharmacist, hospital       0.00      0.00      0.00         0\n",
      "                                                       Photographer       0.00      0.00      0.00         2\n",
      "                                                 Physicist, medical       0.00      0.00      0.00         1\n",
      "                                            Physiological scientist       0.00      0.00      0.00         1\n",
      "                                                    Physiotherapist       0.00      0.00      0.00         0\n",
      "                                                     Phytotherapist       0.00      0.00      0.00         2\n",
      "                                                     Pilot, airline       0.00      0.00      0.00         2\n",
      "                                  Planning and development surveyor       0.00      0.00      0.00         1\n",
      "                                           Plant breeder/geneticist       0.00      0.00      0.00         2\n",
      "                                                         Podiatrist       0.00      0.00      0.00         1\n",
      "                                                     Police officer       0.00      0.00      0.00         0\n",
      "                                             Politician's assistant       0.00      0.00      0.00         1\n",
      "                                            Presenter, broadcasting       0.00      0.00      0.00         3\n",
      "                                                 Press photographer       0.00      0.00      0.00         3\n",
      "                                                          Press sub       0.00      0.00      0.00         3\n",
      "                                             Primary school teacher       0.00      0.00      0.00         3\n",
      "                                           Print production planner       0.00      0.00      0.00         1\n",
      "                                                         Printmaker       0.00      0.00      0.00         0\n",
      "                                                     Prison officer       0.00      0.00      0.00         3\n",
      "                                              Private music teacher       0.00      0.00      0.00         3\n",
      "                                                    Producer, radio       0.00      0.00      0.00         5\n",
      "                                    Producer, television/film/video       0.00      0.00      0.00         2\n",
      "                                                   Product designer       0.00      0.00      0.00         1\n",
      "                                                    Product manager       0.00      0.00      0.00         1\n",
      "                              Product/process development scientist       0.00      0.00      0.00         1\n",
      "                                        Production assistant, radio       0.00      0.00      0.00         1\n",
      "                                   Production assistant, television       0.00      0.00      0.00         1\n",
      "                                                 Production manager       0.00      0.00      0.00         1\n",
      "                                                 Professor Emeritus       0.00      0.00      0.00         1\n",
      "                      Programme researcher, broadcasting/film/video       0.00      0.00      0.00         3\n",
      "                                           Programmer, applications       0.00      0.00      0.00         1\n",
      "                                             Programmer, multimedia       0.00      0.00      0.00         1\n",
      "                                                Programmer, systems       0.00      0.00      0.00         2\n",
      "                                                        Proofreader       0.00      0.00      0.00         0\n",
      "                                                  Psychiatric nurse       0.00      0.00      0.00         4\n",
      "                                                       Psychiatrist       0.00      0.00      0.00         1\n",
      "                                          Psychologist, counselling       0.00      0.00      0.00         4\n",
      "                                          Psychologist, educational       0.00      0.00      0.00         3\n",
      "                                             Psychologist, forensic       0.00      0.00      0.00         1\n",
      "                                         Psychologist, occupational       0.00      0.00      0.00         2\n",
      "                        Psychologist, prison and probation services       0.00      0.00      0.00         1\n",
      "                                   Psychologist, sport and exercise       0.00      0.00      0.00         2\n",
      "                                                    Psychotherapist       0.00      0.00      0.00         3\n",
      "                                             Psychotherapist, child       0.00      0.00      0.00         1\n",
      "                                    Psychotherapist, dance movement       0.00      0.00      0.00         3\n",
      "                                          Public affairs consultant       0.00      0.00      0.00         0\n",
      "                                               Public house manager       0.00      0.00      0.00         0\n",
      "                                                   Public librarian       0.00      0.00      0.00         1\n",
      "                                 Public relations account executive       0.00      0.00      0.00         3\n",
      "                                                    Publishing copy       0.00      0.00      0.00         0\n",
      "                                          Publishing rights manager       0.00      0.00      0.00         2\n",
      "                                                    Quality manager       0.00      0.00      0.00         1\n",
      "                                                  Quantity surveyor       0.00      0.00      0.00         4\n",
      "                                                     Quarry manager       0.00      0.00      0.00         1\n",
      "                                             Race relations officer       0.00      0.00      0.00         0\n",
      "                                  Radiation protection practitioner       0.00      0.00      0.00         1\n",
      "                                          Radio broadcast assistant       0.00      0.00      0.00         1\n",
      "                                                     Radio producer       0.00      0.00      0.00         1\n",
      "                                                      Ranger/warden       0.00      0.00      0.00         3\n",
      "                                                    Records manager       0.00      0.00      0.00         2\n",
      "                                             Recruitment consultant       0.00      0.00      0.00         1\n",
      "                                                  Recycling officer       0.00      0.00      0.00         1\n",
      "                                       Research officer, government       0.00      0.00      0.00         0\n",
      "                                      Research officer, trade union       0.00      0.00      0.00         1\n",
      "                                         Research scientist (maths)       0.00      0.00      0.00         6\n",
      "                             Research scientist (physical sciences)       0.00      0.00      0.00         0\n",
      "                                                 Restaurant manager       0.00      0.00      0.00         0\n",
      "                                                      Retail banker       0.00      0.00      0.00         3\n",
      "                                                       Retail buyer       0.00      0.00      0.00         2\n",
      "                                                     Retail manager       0.00      0.00      0.00         0\n",
      "                                                Retail merchandiser       0.00      0.00      0.00         2\n",
      "                                                            Retired       0.00      0.00      0.00         6\n",
      "                                      Retired Accommodation manager       0.00      0.00      0.00         0\n",
      "                           Retired Accountant, chartered management       0.00      0.00      0.00         1\n",
      "                                      Retired Accounting technician       0.00      0.00      0.00         0\n",
      "                                              Retired Administrator       0.00      0.00      0.00         0\n",
      "           Retired Administrator, charities/voluntary organisations       0.00      0.00      0.00         0\n",
      "                                   Retired Administrator, education       0.00      0.00      0.00         0\n",
      "                                      Retired Administrator, sports       0.00      0.00      0.00         1\n",
      "                                                Retired Adult nurse       0.00      0.00      0.00         1\n",
      "                                    Retired Agricultural consultant       0.00      0.00      0.00         1\n",
      "                                             Retired Air cabin crew       0.00      0.00      0.00         1\n",
      "                                                   Retired Animator       0.00      0.00      0.00         2\n",
      "                                                  Retired Architect       0.00      0.00      0.00         1\n",
      "                                 Retired Architectural technologist       0.00      0.00      0.00         1\n",
      "                                                  Retired Archivist       0.00      0.00      0.00         1\n",
      "      Retired Armed forces logistics/support/administrative officer       0.00      0.00      0.00         0\n",
      "                           Retired Armed forces operational officer       0.00      0.00      0.00         0\n",
      "                             Retired Armed forces technical officer       0.00      0.00      0.00         1\n",
      "                Retired Armed forces training and education officer       0.00      0.00      0.00         1\n",
      "                                                     Retired Artist       0.00      0.00      0.00         1\n",
      "                                                    Retired Barista       0.00      0.00      0.00         1\n",
      "                                               Retired Bonds trader       0.00      0.00      0.00         1\n",
      "                                                 Retired Bookseller       0.00      0.00      0.00         0\n",
      "                                       Retired Brewing technologist       0.00      0.00      0.00         0\n",
      "                                       Retired Broadcast journalist       0.00      0.00      0.00         1\n",
      "                                          Retired Building surveyor       0.00      0.00      0.00         0\n",
      "                                            Retired Camera operator       0.00      0.00      0.00         1\n",
      "                                            Retired Charity officer       0.00      0.00      0.00         1\n",
      "                        Retired Chartered public finance accountant       0.00      0.00      0.00         1\n",
      "                                    Retired Chief Financial Officer       0.00      0.00      0.00         0\n",
      "                                    Retired Chief Marketing Officer       0.00      0.00      0.00         1\n",
      "                                    Retired Chief Operating Officer       0.00      0.00      0.00         1\n",
      "                                   Retired Chief Technology Officer       0.00      0.00      0.00         0\n",
      "                                               Retired Chiropractor       0.00      0.00      0.00         0\n",
      "                                Retired Civil Service administrator       0.00      0.00      0.00         1\n",
      "                                 Retired Civil engineer, consulting       0.00      0.00      0.00         0\n",
      "                                Retired Civil engineer, contracting       0.00      0.00      0.00         0\n",
      "                                    Retired Clinical cytogeneticist       0.00      0.00      0.00         0\n",
      "                                      Retired Clinical embryologist       0.00      0.00      0.00         1\n",
      "  Retired Clinical scientist, histocompatibility and immunogenetics       0.00      0.00      0.00         1\n",
      "                            Retired Commercial/residential surveyor       0.00      0.00      0.00         1\n",
      "                                      Retired Community arts worker       0.00      0.00      0.00         1\n",
      "                               Retired Conservation officer, nature       0.00      0.00      0.00         2\n",
      "                                                 Retired Contractor       0.00      0.00      0.00         0\n",
      "                                Retired Corporate investment banker       0.00      0.00      0.00         1\n",
      "                                                 Retired Counsellor       0.00      0.00      0.00         1\n",
      "                                   Retired Customer service manager       0.00      0.00      0.00         1\n",
      "                                             Retired Cytogeneticist       0.00      0.00      0.00         0\n",
      "                                                     Retired Dancer       0.00      0.00      0.00         1\n",
      "                                             Retired Data scientist       0.00      0.00      0.00         1\n",
      "                                                    Retired Dentist       0.00      0.00      0.00         1\n",
      "                                 Retired Designer, ceramics/pottery       0.00      0.00      0.00         1\n",
      "                               Retired Designer, exhibition/display       0.00      0.00      0.00         1\n",
      "                                        Retired Designer, furniture       0.00      0.00      0.00         0\n",
      "                                          Retired Designer, graphic       0.00      0.00      0.00         2\n",
      "                                        Retired Designer, jewellery       0.00      0.00      0.00         1\n",
      "                                          Retired Designer, textile       0.00      0.00      0.00         1\n",
      "                              Retired Development worker, community       0.00      0.00      0.00         0\n",
      "                                                  Retired Dietitian       0.00      0.00      0.00         1\n",
      "                                   Retired Doctor, general practice       0.00      0.00      0.00         1\n",
      "                                        Retired Early years teacher       0.00      0.00      0.00         2\n",
      "                                                  Retired Ecologist       0.00      0.00      0.00         1\n",
      "                                         Retired Editor, film/video       0.00      0.00      0.00         0\n",
      "                                  Retired Editor, magazine features       0.00      0.00      0.00         0\n",
      "                                            Retired Energy engineer       0.00      0.00      0.00         1\n",
      "                                             Retired Energy manager       0.00      0.00      0.00         0\n",
      "                                       Retired Engineer, biomedical       0.00      0.00      0.00         1\n",
      "                        Retired Engineer, broadcasting (operations)       0.00      0.00      0.00         1\n",
      "                                         Retired Engineer, chemical       0.00      0.00      0.00         2\n",
      "                               Retired Engineer, civil (consulting)       0.00      0.00      0.00         0\n",
      "                      Retired Engineer, control and instrumentation       0.00      0.00      0.00         1\n",
      "                                           Retired Engineer, energy       0.00      0.00      0.00         0\n",
      "                                      Retired Engineer, maintenance       0.00      0.00      0.00         1\n",
      "                                 Retired Engineer, maintenance (IT)       0.00      0.00      0.00         1\n",
      "                                        Retired Engineer, materials       0.00      0.00      0.00         0\n",
      "                                           Retired Engineer, mining       0.00      0.00      0.00         1\n",
      "                                       Retired Engineer, production       0.00      0.00      0.00         0\n",
      "                            Retired Environmental education officer       0.00      0.00      0.00         2\n",
      "                             Retired Equality and diversity officer       0.00      0.00      0.00         2\n",
      "                                                 Retired Ergonomist       0.00      0.00      0.00         1\n",
      "                                  Retired Estate manager/land agent       0.00      0.00      0.00         0\n",
      "                                               Retired Farm manager       0.00      0.00      0.00         1\n",
      "                                       Retired Field trials officer       0.00      0.00      0.00         1\n",
      "                                       Retired Financial controller       0.00      0.00      0.00         1\n",
      "                                     Retired Fitness centre manager       0.00      0.00      0.00         0\n",
      "                                    Retired Forest/woodland manager       0.00      0.00      0.00         0\n",
      "                                          Retired Freight forwarder       0.00      0.00      0.00         1\n",
      "                             Retired Furniture conservator/restorer       0.00      0.00      0.00         1\n",
      "                                         Retired Furniture designer       0.00      0.00      0.00         1\n",
      "                                      Retired Geneticist, molecular       0.00      0.00      0.00         1\n",
      "                                        Retired Geologist, wellsite       0.00      0.00      0.00         1\n",
      "                                 Retired Geophysical data processor       0.00      0.00      0.00         0\n",
      "                                               Retired Geoscientist       0.00      0.00      0.00         1\n",
      "                         Retired Government social research officer       0.00      0.00      0.00         1\n",
      "                                              Retired Haematologist       0.00      0.00      0.00         0\n",
      "                                  Retired Health and safety adviser       0.00      0.00      0.00         0\n",
      "                                           Retired Health physicist       0.00      0.00      0.00         3\n",
      "                                Retired Health promotion specialist       0.00      0.00      0.00         1\n",
      "                                     Retired Health service manager       0.00      0.00      0.00         1\n",
      "          Retired Historic buildings inspector/conservation officer       0.00      0.00      0.00         0\n",
      "                                     Retired Holiday representative       0.00      0.00      0.00         1\n",
      "                                                  Retired Homeopath       0.00      0.00      0.00         0\n",
      "                                   Retired Horticultural consultant       0.00      0.00      0.00         0\n",
      "                                        Retired Hospital pharmacist       0.00      0.00      0.00         1\n",
      "                                    Retired Housing manager/officer       0.00      0.00      0.00         1\n",
      "                                    Retired Human resources officer       0.00      0.00      0.00         0\n",
      "                                             Retired Hydrogeologist       0.00      0.00      0.00         1\n",
      "                               Retired IT technical support officer       0.00      0.00      0.00         1\n",
      "                                        Retired Immigration officer       0.00      0.00      0.00         1\n",
      "                                           Retired Industrial buyer       0.00      0.00      0.00         1\n",
      "                                   Retired Insurance claims handler       0.00      0.00      0.00         1\n",
      "                                       Retired Intelligence analyst       0.00      0.00      0.00         0\n",
      "                               Retired Investment banker, corporate       0.00      0.00      0.00         0\n",
      "                             Retired Investment banker, operational       0.00      0.00      0.00         1\n",
      "                                                     Retired Lawyer       0.00      0.00      0.00         1\n",
      "                                     Retired Leisure centre manager       0.00      0.00      0.00         0\n",
      "                                        Retired Librarian, academic       0.00      0.00      0.00         1\n",
      "               Retired Lighting technician, broadcasting/film/video       0.00      0.00      0.00         1\n",
      "                                                   Retired Lobbyist       0.00      0.00      0.00         0\n",
      "                         Retired Logistics and distribution manager       0.00      0.00      0.00         1\n",
      "                                                       Retired Make       0.00      0.00      0.00         1\n",
      "                             Retired Manufacturing systems engineer       0.00      0.00      0.00         1\n",
      "                                        Retired Marketing executive       0.00      0.00      0.00         1\n",
      "                                                Retired Media buyer       0.00      0.00      0.00         0\n",
      "                               Retired Medical sales representative       0.00      0.00      0.00         1\n",
      "                                          Retired Medical secretary       0.00      0.00      0.00         0\n",
      "                                       Retired Merchandiser, retail       0.00      0.00      0.00         2\n",
      "                                               Retired Metallurgist       0.00      0.00      0.00         0\n",
      "                                            Retired Mining engineer       0.00      0.00      0.00         1\n",
      "                                      Retired Multimedia specialist       0.00      0.00      0.00         0\n",
      "                                   Retired Museum education officer       0.00      0.00      0.00         0\n",
      "                                     Retired Museum/gallery curator       0.00      0.00      0.00         2\n",
      "                                                Retired Music tutor       0.00      0.00      0.00         1\n",
      "                                                   Retired Musician       0.00      0.00      0.00         0\n",
      "                                Retired Nature conservation officer       0.00      0.00      0.00         1\n",
      "                                               Retired Neurosurgeon       0.00      0.00      0.00         0\n",
      "                                       Retired Newspaper journalist       0.00      0.00      0.00         1\n",
      "                                               Retired Nurse, adult       0.00      0.00      0.00         1\n",
      "                                      Retired Nutritional therapist       0.00      0.00      0.00         0\n",
      "                                     Retired Occupational hygienist       0.00      0.00      0.00         1\n",
      "                              Retired Operational investment banker       0.00      0.00      0.00         1\n",
      "                                                Retired Optometrist       0.00      0.00      0.00         0\n",
      "                                            Retired Patent attorney       0.00      0.00      0.00         0\n",
      "                                        Retired Pensions consultant       0.00      0.00      0.00         0\n",
      "                                          Retired Personnel officer       0.00      0.00      0.00         1\n",
      "                                         Retired Petroleum engineer       0.00      0.00      0.00         1\n",
      "                                             Retired Pharmacologist       0.00      0.00      0.00         1\n",
      "                                         Retired Physicist, medical       0.00      0.00      0.00         1\n",
      "                                             Retired Police officer       0.00      0.00      0.00         2\n",
      "                                     Retired Politician's assistant       0.00      0.00      0.00         3\n",
      "                                   Retired Print production planner       0.00      0.00      0.00         1\n",
      "                                             Retired Prison officer       0.00      0.00      0.00         0\n",
      "                            Retired Producer, television/film/video       0.00      0.00      0.00         1\n",
      "                                           Retired Product designer       0.00      0.00      0.00         0\n",
      "                                Retired Production assistant, radio       0.00      0.00      0.00         0\n",
      "              Retired Programme researcher, broadcasting/film/video       0.00      0.00      0.00         0\n",
      "                                  Retired Psychologist, educational       0.00      0.00      0.00         1\n",
      "                                 Retired Psychologist, occupational       0.00      0.00      0.00         1\n",
      "                           Retired Psychologist, sport and exercise       0.00      0.00      0.00         0\n",
      "                            Retired Psychotherapist, dance movement       0.00      0.00      0.00         0\n",
      "                                   Retired Public relations officer       0.00      0.00      0.00         1\n",
      "                                            Retired Publishing copy       0.00      0.00      0.00         1\n",
      "                                  Retired Publishing rights manager       0.00      0.00      0.00         1\n",
      "                                            Retired Quality manager       0.00      0.00      0.00         1\n",
      "                                             Retired Radio producer       0.00      0.00      0.00         0\n",
      "                                              Retired Ranger/warden       0.00      0.00      0.00         1\n",
      "                                         Retired Restaurant manager       0.00      0.00      0.00         1\n",
      "                                              Retired Retail banker       0.00      0.00      0.00         1\n",
      "                                        Retired Retail merchandiser       0.00      0.00      0.00         1\n",
      "                            Retired Runner, broadcasting/film/video       0.00      0.00      0.00         1\n",
      "                                            Retired Sales executive       0.00      0.00      0.00         1\n",
      "                                     Retired Sales professional, IT       0.00      0.00      0.00         1\n",
      "                          Retired Sales promotion account executive       0.00      0.00      0.00         0\n",
      "                                      Retired Scientist, biomedical       0.00      0.00      0.00         1\n",
      "Retired Scientist, clinical (histocompatibility and immunogenetics)       0.00      0.00      0.00         1\n",
      "                                        Retired Scientist, forensic       0.00      0.00      0.00         0\n",
      "                                   Retired Scientist, physiological       0.00      0.00      0.00         1\n",
      "                     Retired Scientist, product/process development       0.00      0.00      0.00         1\n",
      "                                    Retired Secretary/administrator       0.00      0.00      0.00         0\n",
      "                                              Retired Site engineer       0.00      0.00      0.00         1\n",
      "                                              Retired Social worker       0.00      0.00      0.00         0\n",
      "                                             Retired Soil scientist       0.00      0.00      0.00         0\n",
      "                            Retired Sport and exercise psychologist       0.00      0.00      0.00         0\n",
      "                                 Retired Sports development officer       0.00      0.00      0.00         1\n",
      "                                                    Retired Surgeon       0.00      0.00      0.00         1\n",
      "                                         Retired Surveyor, building       0.00      0.00      0.00         1\n",
      "                                         Retired Surveyor, quantity       0.00      0.00      0.00         0\n",
      "                                   Retired Teacher, adult education       0.00      0.00      0.00         0\n",
      "                             Retired Teaching laboratory technician       0.00      0.00      0.00         1\n",
      "                                           Retired Technical author       0.00      0.00      0.00         0\n",
      "                                   Retired Technical sales engineer       0.00      0.00      0.00         1\n",
      "                              Retired Telecommunications researcher       0.00      0.00      0.00         0\n",
      "                                   Retired Television floor manager       0.00      0.00      0.00         1\n",
      "                            Retired Television production assistant       0.00      0.00      0.00         1\n",
      "                                      Retired Theatre stage manager       0.00      0.00      0.00         1\n",
      "                                           Retired Therapist, drama       0.00      0.00      0.00         1\n",
      "                                     Retired Therapist, nutritional       0.00      0.00      0.00         1\n",
      "                             Retired Therapist, speech and language       0.00      0.00      0.00         1\n",
      "                                          Retired Therapist, sports       0.00      0.00      0.00         0\n",
      "                                               Retired Tour manager       0.00      0.00      0.00         0\n",
      "                                               Retired Video editor       0.00      0.00      0.00         2\n",
      "                                             Retired Water engineer       0.00      0.00      0.00         2\n",
      "                                               Retired Web designer       0.00      0.00      0.00         1\n",
      "                                                     Retired Writer       0.00      0.00      0.00         0\n",
      "                                                       Risk analyst       0.00      0.00      0.00         2\n",
      "                                                       Risk manager       0.00      0.00      0.00         1\n",
      "                                    Runner, broadcasting/film/video       0.00      0.00      0.00         2\n",
      "                                            Rural practice surveyor       0.00      0.00      0.00         2\n",
      "                                                    Sales executive       0.00      0.00      0.00         3\n",
      "                                             Sales professional, IT       0.00      0.00      0.00         2\n",
      "                                  Sales promotion account executive       0.00      0.00      0.00         2\n",
      "                                                     Science writer       0.00      0.00      0.00         1\n",
      "                                            Scientist, audiological       0.00      0.00      0.00         3\n",
      "                                              Scientist, biomedical       0.00      0.00      0.00         0\n",
      "        Scientist, clinical (histocompatibility and immunogenetics)       0.00      0.00      0.00         4\n",
      "                                                Scientist, forensic       0.00      0.00      0.00         1\n",
      "                                           Scientist, physiological       0.00      0.00      0.00         1\n",
      "                             Scientist, product/process development       0.00      0.00      0.00         2\n",
      "                                Scientist, research (life sciences)       0.00      0.00      0.00         2\n",
      "                                        Scientist, research (maths)       0.00      0.00      0.00         4\n",
      "                                      Scientist, research (medical)       0.00      0.00      0.00         6\n",
      "                            Scientist, research (physical sciences)       0.00      0.00      0.00         5\n",
      "                                           Scientist, water quality       0.00      0.00      0.00         2\n",
      "                                           Secondary school teacher       0.00      0.00      0.00         4\n",
      "                                                 Secretary, company       0.00      0.00      0.00         1\n",
      "                                            Secretary/administrator       0.00      0.00      0.00         1\n",
      "                                                Seismic interpreter       0.00      0.00      0.00         3\n",
      "                              Senior tax professional/tax inspector       0.00      0.00      0.00         1\n",
      "                                                       Set designer       0.00      0.00      0.00         1\n",
      "                                                        Ship broker       0.00      0.00      0.00         2\n",
      "                                                      Site engineer       0.00      0.00      0.00         1\n",
      "                                                  Social researcher       0.00      0.00      0.00         1\n",
      "                                                      Social worker       0.00      0.00      0.00         1\n",
      "                                                     Soil scientist       0.00      0.00      0.00         1\n",
      "                                                Solicitor, Scotland       0.00      0.00      0.00         1\n",
      "                          Sound technician, broadcasting/film/video       0.00      0.00      0.00         2\n",
      "                                  Special educational needs teacher       0.00      0.00      0.00         0\n",
      "                                             Special effects artist       0.00      0.00      0.00         2\n",
      "                                      Speech and language therapist       0.00      0.00      0.00         2\n",
      "                                    Sport and exercise psychologist       0.00      0.00      0.00         1\n",
      "                                               Sports administrator       0.00      0.00      0.00         2\n",
      "                                                       Sports coach       0.00      0.00      0.00         1\n",
      "                                         Sports development officer       0.00      0.00      0.00         4\n",
      "                                                   Sports therapist       0.00      0.00      0.00         5\n",
      "                                                      Stage manager       0.00      0.00      0.00         0\n",
      "                                                       Statistician       0.00      0.00      0.00         2\n",
      "                                                Structural engineer       0.00      0.00      0.00         0\n",
      "                                                            Student       0.99      1.00      0.99       271\n",
      "                                                            Surgeon       0.00      0.00      0.00         3\n",
      "                                                 Surveyor, building       0.00      0.00      0.00         3\n",
      "                                   Surveyor, commercial/residential       0.00      0.00      0.00         2\n",
      "                                             Surveyor, hydrographic       0.00      0.00      0.00         2\n",
      "                                           Surveyor, land/geomatics       0.00      0.00      0.00         1\n",
      "                                                 Surveyor, minerals       0.00      0.00      0.00         8\n",
      "                                                   Surveyor, mining       0.00      0.00      0.00         1\n",
      "                                 Surveyor, planning and development       0.00      0.00      0.00         1\n",
      "                                                 Surveyor, quantity       0.00      0.00      0.00         2\n",
      "                                           Surveyor, rural practice       0.00      0.00      0.00         1\n",
      "                                                    Systems analyst       0.00      0.00      0.00         0\n",
      "                                                  Systems developer       0.00      0.00      0.00         1\n",
      "                                                       TEFL teacher       0.00      0.00      0.00         2\n",
      "                                                        Tax adviser       0.00      0.00      0.00         1\n",
      "                                                      Tax inspector       0.00      0.00      0.00         1\n",
      "                             Teacher, English as a foreign language       0.00      0.00      0.00         3\n",
      "                                           Teacher, adult education       0.00      0.00      0.00         4\n",
      "                                           Teacher, early years/pre       0.00      0.00      0.00         1\n",
      "                                                     Teacher, music       0.00      0.00      0.00         0\n",
      "                                            Teacher, primary school       0.00      0.00      0.00         3\n",
      "                                     Teaching laboratory technician       0.00      0.00      0.00         3\n",
      "                                                   Technical author       0.00      0.00      0.00         2\n",
      "                                           Technical sales engineer       0.00      0.00      0.00         2\n",
      "                                      Telecommunications researcher       0.00      0.00      0.00         0\n",
      "                                         Television camera operator       0.00      0.00      0.00         2\n",
      "                                           Television floor manager       0.00      0.00      0.00         2\n",
      "                                    Television production assistant       0.00      0.00      0.00         2\n",
      "                                     Television/film/video producer       0.00      0.00      0.00         0\n",
      "                                                   Textile designer       0.00      0.00      0.00         2\n",
      "                                                   Theatre director       0.00      0.00      0.00         1\n",
      "                                                    Theatre manager       0.00      0.00      0.00         3\n",
      "                                                 Theme park manager       0.00      0.00      0.00         2\n",
      "                                           Therapeutic radiographer       0.00      0.00      0.00         4\n",
      "                                                   Therapist, drama       0.00      0.00      0.00         1\n",
      "                                           Therapist, horticultural       0.00      0.00      0.00         4\n",
      "                                                   Therapist, music       0.00      0.00      0.00         3\n",
      "                                             Therapist, nutritional       0.00      0.00      0.00         1\n",
      "                                     Therapist, speech and language       0.00      0.00      0.00         0\n",
      "                                                  Therapist, sports       0.00      0.00      0.00         2\n",
      "                                                       Tour manager       0.00      0.00      0.00         2\n",
      "                                                    Tourism officer       0.00      0.00      0.00         1\n",
      "                                 Tourist information centre manager       0.00      0.00      0.00         0\n",
      "                                                       Town planner       0.00      0.00      0.00         2\n",
      "                                                       Toxicologist       0.00      0.00      0.00         1\n",
      "                                                Trade mark attorney       0.00      0.00      0.00         1\n",
      "                                          Trading standards officer       0.00      0.00      0.00         2\n",
      "                                   Training and development officer       0.00      0.00      0.00         2\n",
      "                                                         Translator       0.00      0.00      0.00         1\n",
      "                                                  Transport planner       0.00      0.00      0.00         5\n",
      "                                              Travel agency manager       0.00      0.00      0.00         1\n",
      "                                                       Tree surgeon       0.00      0.00      0.00         4\n",
      "                                                         Unemployed       0.10      0.19      0.13        86\n",
      "                                                 University Student       0.92      0.98      0.95       100\n",
      "                                                 Veterinary surgeon       0.00      0.00      0.00         2\n",
      "                                                       Video editor       0.00      0.00      0.00         2\n",
      "                                                Visual merchandiser       0.00      0.00      0.00         1\n",
      "                                              Volunteer coordinator       0.00      0.00      0.00         3\n",
      "                                                  Warehouse manager       0.00      0.00      0.00         3\n",
      "                                           Waste management officer       0.00      0.00      0.00         2\n",
      "                                                     Water engineer       0.00      0.00      0.00         0\n",
      "                                            Water quality scientist       0.00      0.00      0.00         1\n",
      "                                                       Web designer       0.00      0.00      0.00         1\n",
      "                                                 Wellsite geologist       0.00      0.00      0.00         3\n",
      "                                                             Writer       0.00      0.00      0.00         0\n",
      "                                                       Youth worker       0.00      0.00      0.00         1\n",
      "\n",
      "                                                           accuracy                           0.29      1610\n",
      "                                                          macro avg       0.00      0.00      0.00      1610\n",
      "                                                       weighted avg       0.28      0.29      0.28      1610\n",
      "\n"
     ]
    },
    {
     "name": "stderr",
     "output_type": "stream",
     "text": [
      "C:\\Users\\sleek\\AppData\\Local\\Programs\\Python\\Python312\\Lib\\site-packages\\sklearn\\metrics\\_classification.py:1531: UndefinedMetricWarning: Precision is ill-defined and being set to 0.0 in labels with no predicted samples. Use `zero_division` parameter to control this behavior.\n",
      "  _warn_prf(average, modifier, f\"{metric.capitalize()} is\", len(result))\n",
      "C:\\Users\\sleek\\AppData\\Local\\Programs\\Python\\Python312\\Lib\\site-packages\\sklearn\\metrics\\_classification.py:1531: UndefinedMetricWarning: Recall is ill-defined and being set to 0.0 in labels with no true samples. Use `zero_division` parameter to control this behavior.\n",
      "  _warn_prf(average, modifier, f\"{metric.capitalize()} is\", len(result))\n",
      "C:\\Users\\sleek\\AppData\\Local\\Programs\\Python\\Python312\\Lib\\site-packages\\sklearn\\metrics\\_classification.py:1531: UndefinedMetricWarning: Precision is ill-defined and being set to 0.0 in labels with no predicted samples. Use `zero_division` parameter to control this behavior.\n",
      "  _warn_prf(average, modifier, f\"{metric.capitalize()} is\", len(result))\n",
      "C:\\Users\\sleek\\AppData\\Local\\Programs\\Python\\Python312\\Lib\\site-packages\\sklearn\\metrics\\_classification.py:1531: UndefinedMetricWarning: Recall is ill-defined and being set to 0.0 in labels with no true samples. Use `zero_division` parameter to control this behavior.\n",
      "  _warn_prf(average, modifier, f\"{metric.capitalize()} is\", len(result))\n",
      "C:\\Users\\sleek\\AppData\\Local\\Programs\\Python\\Python312\\Lib\\site-packages\\sklearn\\metrics\\_classification.py:1531: UndefinedMetricWarning: Precision is ill-defined and being set to 0.0 in labels with no predicted samples. Use `zero_division` parameter to control this behavior.\n",
      "  _warn_prf(average, modifier, f\"{metric.capitalize()} is\", len(result))\n",
      "C:\\Users\\sleek\\AppData\\Local\\Programs\\Python\\Python312\\Lib\\site-packages\\sklearn\\metrics\\_classification.py:1531: UndefinedMetricWarning: Recall is ill-defined and being set to 0.0 in labels with no true samples. Use `zero_division` parameter to control this behavior.\n",
      "  _warn_prf(average, modifier, f\"{metric.capitalize()} is\", len(result))\n",
      "C:\\Users\\sleek\\AppData\\Local\\Temp\\ipykernel_6708\\3289499977.py:45: SettingWithCopyWarning: \n",
      "A value is trying to be set on a copy of a slice from a DataFrame.\n",
      "Try using .loc[row_indexer,col_indexer] = value instead\n",
      "\n",
      "See the caveats in the documentation: https://pandas.pydata.org/pandas-docs/stable/user_guide/indexing.html#returning-a-view-versus-a-copy\n",
      "  df_missing_occupation['Occupation'] = clf.predict(X_missing)\n"
     ]
    }
   ],
   "source": [
    "import pandas as pd\n",
    "from sklearn.preprocessing import LabelEncoder\n",
    "from sklearn.model_selection import train_test_split\n",
    "from sklearn.ensemble import RandomForestClassifier\n",
    "from sklearn.metrics import classification_report\n",
    "\n",
    "# Separate rows with and without missing occupation values\n",
    "df_missing_occupation = df[df['Occupation'].isnull()]\n",
    "df_non_missing_occupation = df[df['Occupation'].notnull()]\n",
    "\n",
    "# Initialize label encoders\n",
    "label_encoders = {}\n",
    "categorical_columns = ['Marital Status', 'Gender', 'Infirmity', 'Religion']\n",
    "\n",
    "# Apply label encoding to each categorical column\n",
    "for column in categorical_columns:\n",
    "    label_encoders[column] = LabelEncoder()\n",
    "    df_non_missing_occupation[column] = label_encoders[column].fit_transform(df_non_missing_occupation[column])\n",
    "    df_missing_occupation[column] = label_encoders[column].transform(df_missing_occupation[column])\n",
    "\n",
    "\n",
    "df_non_missing_occupation['Age'] = pd.to_numeric(df_non_missing_occupation['Age'], errors='coerce')\n",
    "df_missing_occupation['Age'] = pd.to_numeric(df_missing_occupation['Age'], errors='coerce')\n",
    "\n",
    "# Define features and target variable\n",
    "features = ['Age', 'Marital Status', 'Gender', 'Infirmity', 'Religion']\n",
    "target = 'Occupation'\n",
    "\n",
    "X = df_non_missing_occupation[features]\n",
    "y = df_non_missing_occupation[target]\n",
    "\n",
    "# Split into training and testing sets\n",
    "X_train, X_test, y_train, y_test = train_test_split(X, y, test_size=0.2, random_state=42)\n",
    "\n",
    "# Initialize and train the classifier\n",
    "clf = RandomForestClassifier(random_state=42)\n",
    "clf.fit(X_train, y_train)\n",
    "\n",
    "# Evaluate the classifier\n",
    "y_pred = clf.predict(X_test)\n",
    "print(classification_report(y_test, y_pred))\n",
    "\n",
    "# Predict the occupation for missing values\n",
    "X_missing = df_missing_occupation[features]\n",
    "df_missing_occupation['Occupation'] = clf.predict(X_missing)\n",
    "\n",
    "# Combine the dataframes\n",
    "df_combined = pd.concat([df_non_missing_occupation, df_missing_occupation])\n",
    "df_combined.sort_index(inplace=True)\n",
    "\n",
    "# Reverse the label encoding for each categorical column\n",
    "for column in categorical_columns:\n",
    "    df_combined[column] = label_encoders[column].inverse_transform(df_combined[column])\n",
    "\n",
    "#Final dataframe\n",
    "df = df_combined.copy()"
   ]
  },
  {
   "cell_type": "code",
   "execution_count": 398,
   "id": "d3ce2df9-d439-4743-8eee-be990141a017",
   "metadata": {},
   "outputs": [
    {
     "data": {
      "text/plain": [
       "Unnamed: 0                       False\n",
       "House Number                     False\n",
       "Street                           False\n",
       "First Name                       False\n",
       "Surname                          False\n",
       "Age                              False\n",
       "Relationship to Head of House    False\n",
       "Marital Status                   False\n",
       "Gender                           False\n",
       "Occupation                       False\n",
       "Infirmity                        False\n",
       "Religion                         False\n",
       "dtype: bool"
      ]
     },
     "execution_count": 398,
     "metadata": {},
     "output_type": "execute_result"
    }
   ],
   "source": [
    "df.isnull().any()"
   ]
  },
  {
   "cell_type": "code",
   "execution_count": 400,
   "id": "6e8ec37e-bb75-4b1c-a7cb-c8d90b5d4c45",
   "metadata": {},
   "outputs": [],
   "source": [
    "# Lets save our cleaned dataframe into a new excel file.\n",
    "df.to_csv('census4_clean.csv')"
   ]
  },
  {
   "cell_type": "markdown",
   "id": "cd7c9bc3-d4dd-4f99-9da1-4568cdd86fa5",
   "metadata": {},
   "source": [
    "# Graphical Analysis"
   ]
  },
  {
   "cell_type": "markdown",
   "id": "87e59851-65f1-42a0-96a7-0438c3bc590a",
   "metadata": {},
   "source": [
    "# Importing the neccessary Libraries and file."
   ]
  },
  {
   "cell_type": "code",
   "execution_count": 401,
   "id": "60973f6c-dce6-4f19-8214-804770e17841",
   "metadata": {},
   "outputs": [],
   "source": [
    "import pandas as pd\n",
    "import matplotlib.pyplot as plt\n",
    "\n",
    "# Load the CSV file\n",
    "file_path = 'census4_clean.csv'  # Update this with the correct path if needed\n",
    "df = pd.read_csv(file_path)"
   ]
  },
  {
   "cell_type": "markdown",
   "id": "3e364b78-4b23-48bf-9903-8afd173eb66d",
   "metadata": {},
   "source": [
    "# Age Pyramid "
   ]
  },
  {
   "cell_type": "code",
   "execution_count": 402,
   "id": "259b768e-b1de-4746-85f7-19985a24e2a8",
   "metadata": {},
   "outputs": [
    {
     "name": "stderr",
     "output_type": "stream",
     "text": [
      "C:\\Users\\sleek\\AppData\\Local\\Temp\\ipykernel_6708\\459134439.py:13: FutureWarning: The default of observed=False is deprecated and will be changed to True in a future version of pandas. Pass observed=False to retain current behavior or observed=True to adopt the future default and silence this warning.\n",
      "  age_gender_distribution = df.groupby(['Age Group', 'Gender']).size().unstack().fillna(0)\n",
      "C:\\Users\\sleek\\AppData\\Local\\Temp\\ipykernel_6708\\459134439.py:33: UserWarning: set_ticklabels() should only be used with a fixed number of ticks, i.e. after set_ticks() or using a FixedLocator.\n",
      "  ax.set_xticklabels([f\"{abs(int(x))}\" for x in xticks])\n"
     ]
    },
    {
     "data": {
      "image/png": "[encoded data removed]",
      "text/plain": [
       "<Figure size 1200x1000 with 1 Axes>"
      ]
     },
     "metadata": {},
     "output_type": "display_data"
    }
   ],
   "source": [
    "# Removing the index column\n",
    "df = df.drop(columns=['Unnamed: 0'])\n",
    "\n",
    "# Define age bins and labels for 5-year age groups\n",
    "age_bins = [0, 5, 10, 15, 20, 25, 30, 35, 40, 45, 50, 55, 60, 65, 70, 75, 80, 85, 90, 95, 101]\n",
    "age_labels = ['0--4', '5--9', '10--14', '15--19', '20--24', '25--29', '30--34', '35--39', '40--44', \n",
    "              '45--49', '50--54', '55--59', '60--64', '65--69', '70--74', '75--79', '80--84', '85--89', '90--94', '95+']\n",
    "\n",
    "# Create age groups\n",
    "df['Age Group'] = pd.cut(df['Age'], bins=age_bins, labels=age_labels, right=False)\n",
    "\n",
    "# Group by Age Group and Gender\n",
    "age_gender_distribution = df.groupby(['Age Group', 'Gender']).size().unstack().fillna(0)\n",
    "\n",
    "# Inverting the female counts to be negative for the pyramid effect\n",
    "age_gender_distribution['Female'] = -age_gender_distribution['Female']\n",
    "\n",
    "# Plotting the age pyramid\n",
    "fig, ax = plt.subplots(figsize=(12, 10))\n",
    "\n",
    "# Plot males (positive values)\n",
    "ax.barh(age_gender_distribution.index, age_gender_distribution['Male'], color='#1f77b4', label='Male', height=0.5)\n",
    "# Plot females (negative values)\n",
    "ax.barh(age_gender_distribution.index, age_gender_distribution['Female'], color='#ff7f0e', label='Female', height=0.5)\n",
    "\n",
    "ax.set_xlabel('Population')\n",
    "ax.set_ylabel('Age Group')\n",
    "ax.set_title('Age Pyramid')\n",
    "ax.legend(loc='upper right')\n",
    "\n",
    "# Adjust x-axis labels for better readability\n",
    "xticks = ax.get_xticks()\n",
    "ax.set_xticklabels([f\"{abs(int(x))}\" for x in xticks])\n",
    "\n",
    "# Save the figure as a PNG file\n",
    "fig.savefig('age_pyramid.png')\n",
    "\n",
    "# Displaing the pyramid graph\n",
    "plt.show()"
   ]
  },
  {
   "cell_type": "markdown",
   "id": "bd7b72b6-8aa7-47df-b23e-797fccbb886d",
   "metadata": {},
   "source": [
    "# Marital Status Distribution by Age Group"
   ]
  },
  {
   "cell_type": "code",
   "execution_count": 403,
   "id": "6be15d2e-0abd-40d6-9310-0f04680bba47",
   "metadata": {},
   "outputs": [
    {
     "name": "stderr",
     "output_type": "stream",
     "text": [
      "C:\\Users\\sleek\\AppData\\Local\\Temp\\ipykernel_6708\\2874700307.py:10: FutureWarning: The default of observed=False is deprecated and will be changed to True in a future version of pandas. Pass observed=False to retain current behavior or observed=True to adopt the future default and silence this warning.\n",
      "  marital_status_counts = df.groupby(['Age Group', 'Marital Status']).size().unstack(fill_value=0)\n"
     ]
    },
    {
     "data": {
      "image/png": "[encoded data removed]",
      "text/plain": [
       "<Figure size 1400x800 with 1 Axes>"
      ]
     },
     "metadata": {},
     "output_type": "display_data"
    }
   ],
   "source": [
    "# Define age bins and labels for 5-year age groups\n",
    "age_bins = [0, 5, 10, 15, 20, 25, 30, 35, 40, 45, 50, 55, 60, 65, 70, 75, 80, 85, 90, 95, 101]\n",
    "age_labels = ['0 to 4', '5 to 9', '10 to 14', '15 to 19', '20 to 24', '25 to 29', '30 to 34', '35 to 39', '40 to 44', \n",
    "              '45 to 49', '50 to 54', '55 to 59', '60 to 64', '65 to 69', '70 to 74', '75 to 79', '80 to 84', '85 to 89', '90 to 94', '95+']\n",
    "\n",
    "# Create age groups\n",
    "df['Age Group'] = pd.cut(df['Age'], bins=age_bins, labels=age_labels, right=False)\n",
    "\n",
    "# Calculate the percentage of each marital status within each age group\n",
    "marital_status_counts = df.groupby(['Age Group', 'Marital Status']).size().unstack(fill_value=0)\n",
    "age_group_totals = marital_status_counts.sum(axis=1)\n",
    "marital_status_percentages = (marital_status_counts.T / age_group_totals).T * 100\n",
    "\n",
    "# Plot the data\n",
    "marital_status_percentages.plot(kind='bar', stacked=True, figsize=(14, 8), colormap='viridis')\n",
    "plt.xlabel('Age Group')\n",
    "plt.ylabel('Percentage')\n",
    "plt.title('Marital Status Distribution by Age Group')\n",
    "plt.legend(title='Marital Status')\n",
    "plt.xticks(rotation=45)\n",
    "\n",
    "plt.savefig('Marital_Status_of_Town.png')\n",
    "plt.tight_layout()\n",
    "plt.show()"
   ]
  },
  {
   "cell_type": "markdown",
   "id": "342c7eea-6aef-44ba-aa26-0c765efbb966",
   "metadata": {},
   "source": [
    "# Percentage of each Religion"
   ]
  },
  {
   "cell_type": "code",
   "execution_count": 404,
   "id": "b8de98f9-361c-469c-b178-9c5e347a6cc3",
   "metadata": {},
   "outputs": [
    {
     "data": {
      "image/png": "[encoded data removed]",
      "text/plain": [
       "<Figure size 1200x800 with 1 Axes>"
      ]
     },
     "metadata": {},
     "output_type": "display_data"
    },
    {
     "name": "stdout",
     "output_type": "stream",
     "text": [
      "Religion\n",
      "Atheist       33.803340\n",
      "Christian     22.622140\n",
      "Undeclared    22.547928\n",
      "Catholic      11.478046\n",
      "Methodist      6.963513\n",
      "Muslim         1.508967\n",
      "Sikh           0.717378\n",
      "Jewish         0.284477\n",
      "Orthodoxy      0.037106\n",
      "Quaker         0.024737\n",
      "Agnostic       0.012369\n",
      "Name: count, dtype: float64\n"
     ]
    }
   ],
   "source": [
    "# Calculate the frequency and percentage of each religion\n",
    "religion_counts = df['Religion'].value_counts()\n",
    "religion_percentage = (religion_counts / religion_counts.sum()) * 100\n",
    "\n",
    "# Plotting the percentage of each religion\n",
    "fig, ax = plt.subplots(figsize=(12, 8))\n",
    "religion_percentage.plot(kind='bar', ax=ax, color='#1f77b4')\n",
    "ax.set_xlabel('Religion')\n",
    "ax.set_ylabel('Percentage (%)')\n",
    "ax.set_title('Percentage of Each Religion')\n",
    "plt.xticks(rotation=45)\n",
    "plt.show()\n",
    "\n",
    "fig.savefig('Religion_of_town.png')\n",
    "\n",
    "print(religion_percentage)"
   ]
  },
  {
   "cell_type": "markdown",
   "id": "5aacfc60-e185-4489-8891-636983bce451",
   "metadata": {},
   "source": [
    "# Distribution of Occupancy Levels"
   ]
  },
  {
   "cell_type": "code",
   "execution_count": 405,
   "id": "a3224742-305e-4cdd-9366-2754b6c70acb",
   "metadata": {},
   "outputs": [
    {
     "data": {
      "image/png": "[encoded data removed]",
      "text/plain": [
       "<Figure size 1000x600 with 1 Axes>"
      ]
     },
     "metadata": {},
     "output_type": "display_data"
    },
    {
     "data": {
      "text/plain": [
       "(29.952755905511815, 22.96062992125984)"
      ]
     },
     "execution_count": 405,
     "metadata": {},
     "output_type": "execute_result"
    }
   ],
   "source": [
    "# Calculate the number of people per house\n",
    "occupancy_per_house = df.groupby(['House Number', 'Street']).size().reset_index(name='Occupancy')\n",
    "\n",
    "# Aggregate the data by occupancy levels\n",
    "occupancy_counts = occupancy_per_house['Occupancy'].value_counts().sort_index()\n",
    "\n",
    "# Plot the distribution of occupancy levels as a bar graph\n",
    "plt.figure(figsize=(10, 6))\n",
    "occupancy_counts.plot(kind='bar', color='skyblue', edgecolor='black', alpha=0.7)\n",
    "plt.xlabel('Number of People per House')\n",
    "plt.ylabel('Number of Houses')\n",
    "plt.title('Distribution of Occupancy Levels')\n",
    "plt.xticks(rotation=0.5)  # Rotate x-axis labels to horizontal for better readability\n",
    "plt.tight_layout()\n",
    "\n",
    "# Saving our graph\n",
    "plt.savefig('Occupancy_level.png')\n",
    "\n",
    "plt.show()\n",
    "\n",
    "# Determine if housing is under or over-used by setting a benchmark\n",
    "# Assuming an average benchmark of 2-3 people per house for balanced occupancy\n",
    "under_used_threshold = 2\n",
    "over_used_threshold = 3\n",
    "\n",
    "under_used = occupancy_per_house[occupancy_per_house['Occupancy'] < under_used_threshold].shape[0]\n",
    "over_used = occupancy_per_house[occupancy_per_house['Occupancy'] > over_used_threshold].shape[0]\n",
    "total_houses = occupancy_per_house.shape[0]\n",
    "\n",
    "under_used_percentage = (under_used / total_houses) * 100\n",
    "over_used_percentage = (over_used / total_houses) * 100\n",
    "\n",
    "under_used_percentage, over_used_percentage"
   ]
  },
  {
   "cell_type": "markdown",
   "id": "6b359805-6457-4f62-b90a-c6a8ed3ef525",
   "metadata": {},
   "source": [
    "# Unemployment Rate by Age Group"
   ]
  },
  {
   "cell_type": "code",
   "execution_count": 406,
   "id": "a29e6108-8f37-4dbf-95f7-f220a0f3cb9c",
   "metadata": {},
   "outputs": [
    {
     "name": "stderr",
     "output_type": "stream",
     "text": [
      "C:\\Users\\sleek\\AppData\\Local\\Temp\\ipykernel_6708\\2293640382.py:13: FutureWarning: The default of observed=False is deprecated and will be changed to True in a future version of pandas. Pass observed=False to retain current behavior or observed=True to adopt the future default and silence this warning.\n",
      "  unemployment_rate = df.groupby('Age Group')['Unemployed'].mean() * 100\n"
     ]
    },
    {
     "data": {
      "image/png": "[encoded data removed]",
      "text/plain": [
       "<Figure size 1200x800 with 1 Axes>"
      ]
     },
     "metadata": {},
     "output_type": "display_data"
    },
    {
     "name": "stdout",
     "output_type": "stream",
     "text": [
      "Age Group\n",
      "0--4       0.000000\n",
      "5--9       0.000000\n",
      "10--14     0.000000\n",
      "15--19     0.326797\n",
      "20--24     2.604167\n",
      "25--29     8.467742\n",
      "30--34     9.523810\n",
      "35--39     9.722222\n",
      "40--44    10.703812\n",
      "45--49     9.593496\n",
      "50--54    11.342155\n",
      "55--59     7.756813\n",
      "60--64     8.870968\n",
      "65--69     0.000000\n",
      "70--74     0.000000\n",
      "75--79     0.000000\n",
      "80--84     0.000000\n",
      "85--89     0.000000\n",
      "90--94     0.000000\n",
      "95+        0.000000\n",
      "Name: Unemployed, dtype: float64\n"
     ]
    }
   ],
   "source": [
    "# Define age bins and labels for 5-year age groups\n",
    "age_bins = [0, 5, 10, 15, 20, 25, 30, 35, 40, 45, 50, 55, 60, 65, 70, 75, 80, 85, 90, 95, 101]\n",
    "age_labels = ['0--4', '5--9', '10--14', '15--19', '20--24', '25--29', '30--34', '35--39', '40--44', \n",
    "              '45--49', '50--54', '55--59', '60--64', '65--69', '70--74', '75--79', '80--84', '85--89', '90--94', '95+']\n",
    "\n",
    "# Create age groups\n",
    "df['Age Group'] = pd.cut(df['Age'], bins=age_bins, labels=age_labels, right=False)\n",
    "\n",
    "# Determine who is unemployed\n",
    "df['Unemployed'] = df['Occupation'] == 'Unemployed'\n",
    "\n",
    "# Group by Age Group and calculate the unemployment rate for each group\n",
    "unemployment_rate = df.groupby('Age Group')['Unemployed'].mean() * 100\n",
    "\n",
    "# Plotting the unemployment rate by age group\n",
    "fig, ax = plt.subplots(figsize=(12, 8))\n",
    "unemployment_rate.plot(kind='bar', ax=ax, color='#1f77b4')\n",
    "ax.set_xlabel('Age Group')\n",
    "ax.set_ylabel('Unemployment Rate (%)')\n",
    "ax.set_title('Unemployment Rate by Age Group')\n",
    "plt.xticks(rotation=45)\n",
    "plt.show()\n",
    "\n",
    "# Saving the figure as a png.\n",
    "fig.savefig('Unemployment_in_Town.png')\n",
    "\n",
    "# Printing the unemployment rate\n",
    "print(unemployment_rate)"
   ]
  },
  {
   "cell_type": "markdown",
   "id": "a7b7cb8f-0ea9-4da5-8538-1b5f117bd183",
   "metadata": {},
   "source": [
    "# Calculating Birth Date"
   ]
  },
  {
   "cell_type": "code",
   "execution_count": 407,
   "id": "749d807e-c89d-4779-810a-0d81fea4c663",
   "metadata": {},
   "outputs": [
    {
     "name": "stdout",
     "output_type": "stream",
     "text": [
      "Birth rate: 9.27643784786642 per 1000 people\n",
      "Population growth rate: 9.27643784786642 per 1000 people\n",
      "Unemployment rate: 5.466914038342609%\n",
      "Elderly population percentage: 12.096474953617811%\n",
      "School-aged children percentage: 17.155225726654297%\n"
     ]
    }
   ],
   "source": [
    "# Define helper functions\n",
    "def calculate_birth_rate(data):\n",
    "    num_births = data[data['Age'] == 0.5].shape[0]\n",
    "    total_population = data.shape[0]\n",
    "    birth_rate = (num_births / total_population) * 1000  # per 1000 people\n",
    "    return birth_rate\n",
    "\n",
    "# Analysis for high-density or low-density housing\n",
    "birth_rate = calculate_birth_rate(df)\n",
    "population_growth_rate = birth_rate  # Simplified assumption for illustration\n",
    "\n",
    "# Print the results for analysis\n",
    "print(f\"Birth rate: {birth_rate} per 1000 people\")\n",
    "print(f\"Population growth rate: {population_growth_rate} per 1000 people\")\n",
    "\n",
    "# Determine unemployment rate for employment and training\n",
    "unemployment_rate = df[df['Occupation'].str.contains('unemployed', case=False, na=False)].shape[0] / df.shape[0] * 100\n",
    "\n",
    "# Determine the elderly population for old age care\n",
    "elderly_population = df[df['Age'] >= 65].shape[0] / df.shape[0] * 100\n",
    "\n",
    "# Determine the population of school-aged children\n",
    "school_aged_children = df[(df['Age'] >= 5) & (df['Age'] <= 17)].shape[0] / df.shape[0] * 100\n",
    "\n",
    "# Print additional results\n",
    "print(f\"Unemployment rate: {unemployment_rate}%\")\n",
    "print(f\"Elderly population percentage: {elderly_population}%\")\n",
    "print(f\"School-aged children percentage: {school_aged_children}%\")"
   ]
  },
  {
   "cell_type": "markdown",
   "id": "a8415e5e-15d0-4d5d-89bb-580e509978b0",
   "metadata": {},
   "source": [
    "# Comparing School aged and elderly population percentage with unemployment"
   ]
  },
  {
   "cell_type": "code",
   "execution_count": 408,
   "id": "279f6c99-d35c-48e5-8af8-b3dc3a27db82",
   "metadata": {},
   "outputs": [
    {
     "data": {
      "image/png": "[encoded data removed]",
      "text/plain": [
       "<Figure size 1000x600 with 1 Axes>"
      ]
     },
     "metadata": {},
     "output_type": "display_data"
    }
   ],
   "source": [
    "# Data for plotting\n",
    "categories = ['School-aged Children', 'Elderly Population', 'Unemployment Rate']\n",
    "percentages = [school_aged_children, elderly_population, unemployment_rate]\n",
    "\n",
    "# Plotting\n",
    "plt.figure(figsize=(10, 6))\n",
    "bars = plt.bar(categories, percentages, color=['blue', 'orange', 'green'])\n",
    "plt.xlabel('Categories')\n",
    "plt.ylabel('Percentage')\n",
    "plt.title('School-aged Children, Elderly Population, and Unemployment Rate')\n",
    "plt.ylim(0, max(percentages) + 5)  # Adjust y-axis limit for better visualization\n",
    "\n",
    "# Adding percentage labels on top of the bars\n",
    "for bar in bars:\n",
    "    height = bar.get_height()\n",
    "    plt.text(bar.get_x() + bar.get_width() / 2, height, f'{height:.2f}%', ha='center', va='bottom')\n",
    "\n",
    "plt.tight_layout()\n",
    "plt.savefig(\"school_elderly_unemployment.png\")\n",
    "plt.show()"
   ]
  },
  {
   "cell_type": "markdown",
   "id": "9f812d2d-0de8-4620-9971-048f025c0571",
   "metadata": {},
   "source": [
    "# Affluent Occupations"
   ]
  },
  {
   "cell_type": "code",
   "execution_count": 409,
   "id": "4ece629b-8087-4c87-9d0c-0560728b4fa8",
   "metadata": {},
   "outputs": [
    {
     "name": "stdout",
     "output_type": "stream",
     "text": [
      "Affluence percentage: 9.78%\n"
     ]
    },
    {
     "data": {
      "image/png": "[encoded data removed]",
      "text/plain": [
       "<Figure size 1000x600 with 1 Axes>"
      ]
     },
     "metadata": {},
     "output_type": "display_data"
    }
   ],
   "source": [
    "# Identify occupations that indicate affluence\n",
    "affluent_occupations_keywords = ['manager', 'director', 'executive', 'professional', 'scientist', 'professor', 'consultant']\n",
    "affluent_population = df[df['Occupation'].str.contains('|'.join(affluent_occupations_keywords), case=False, na=False)]\n",
    "\n",
    "affluence_percentage = (affluent_population.shape[0] / df.shape[0]) * 100\n",
    "print(f\"Affluence percentage: {affluence_percentage:.2f}%\")\n",
    "\n",
    "# Aggregate specific job titles under general headings\n",
    "aggregated_professions = {\n",
    "    'Manager': affluent_population[affluent_population['Occupation'].str.contains('manager', case=False, na=False)].shape[0],\n",
    "    'Director': affluent_population[affluent_population['Occupation'].str.contains('director', case=False, na=False)].shape[0],\n",
    "    'Executive': affluent_population[affluent_population['Occupation'].str.contains('executive', case=False, na=False)].shape[0],\n",
    "    'Consultants': affluent_population[affluent_population['Occupation'].str.contains('consultant', case=False, na=False)].shape[0],\n",
    "    'Scientists': affluent_population[affluent_population['Occupation'].str.contains('scientist', case=False, na=False)].shape[0],\n",
    "    'Professors': affluent_population[affluent_population['Occupation'].str.contains('professor', case=False, na=False)].shape[0]\n",
    "}\n",
    "\n",
    "# Convert the dictionary to a Series for plotting\n",
    "aggregated_professions_series = pd.Series(aggregated_professions)\n",
    "\n",
    "# Plot the aggregated commuter profession distribution\n",
    "plt.figure(figsize=(10, 6))\n",
    "aggregated_professions_series.plot(kind='bar')\n",
    "plt.xlabel('Occupation')\n",
    "plt.ylabel('Number of People')\n",
    "plt.title('Affluent Occupations')\n",
    "plt.tight_layout()\n",
    "plt.savefig('Affluent_occupation.png')\n",
    "plt.show()"
   ]
  },
  {
   "cell_type": "markdown",
   "id": "b5e271ee-2dd2-4252-8966-930af920ac6d",
   "metadata": {},
   "source": [
    "# Evaluate Health data for injuries and pregnancies"
   ]
  },
  {
   "cell_type": "code",
   "execution_count": 416,
   "id": "4f746e98-f87a-44ed-95b7-0d580f557c64",
   "metadata": {},
   "outputs": [
    {
     "name": "stdout",
     "output_type": "stream",
     "text": [
      "Number of Physical Disability: 15\n",
      "Number of Mental Disability: 5\n",
      "Physical Disability: 0.19%\n",
      "Mental Disability: 0.06%\n"
     ]
    },
    {
     "data": {
      "image/png": "[encoded data removed]",
      "text/plain": [
       "<Figure size 1000x600 with 1 Axes>"
      ]
     },
     "metadata": {},
     "output_type": "display_data"
    }
   ],
   "source": [
    "# Health data analysis\n",
    "num_physical_disability = df[df['Infirmity'].str.contains('Physical Disability', case=False, na=False)].shape[0]\n",
    "num_mental_disability = df[df['Infirmity'].str.contains('Mental Disability', case=False, na=False)].shape[0]\n",
    "\n",
    "physical_disability_percentage = (num_physical_disability / df.shape[0]) * 100\n",
    "mental_disability_percentage = (num_mental_disability / df.shape[0]) * 100\n",
    "\n",
    "print(f\"Number of Physical Disability: {num_physical_disability}\")\n",
    "print(f\"Number of Mental Disability: {num_mental_disability}\")\n",
    "print(f\"Physical Disability: {physical_disability_percentage:.2f}%\")\n",
    "print(f\"Mental Disability: {mental_disability_percentage:.2f}%\")\n",
    "\n",
    "# Plot health data\n",
    "health_data = {'Physical Disability': num_physical_disability, 'Mental Disability': num_mental_disability}\n",
    "plt.figure(figsize=(10, 6))\n",
    "plt.bar(health_data.keys(), health_data.values())\n",
    "plt.xlabel('Health Issues')\n",
    "plt.ylabel('Number of Cases')\n",
    "plt.title('Health Data: Physical and Mental Disability')\n",
    "plt.show()"
   ]
  },
  {
   "cell_type": "markdown",
   "id": "920c7768-ac9b-41ea-a22e-a6aa14c21910",
   "metadata": {},
   "source": [
    "# Commuter Occupation"
   ]
  },
  {
   "cell_type": "code",
   "execution_count": 411,
   "id": "77033cc3-8dab-4735-9618-9234a7fd017f",
   "metadata": {},
   "outputs": [
    {
     "data": {
      "image/png": "[encoded data removed]",
      "text/plain": [
       "<Figure size 1000x600 with 1 Axes>"
      ]
     },
     "metadata": {},
     "output_type": "display_data"
    }
   ],
   "source": [
    "# Identify commuter professions\n",
    "commuter_professions_keywords = ['student', 'journalist', 'surveyor', 'consultant', 'scientist', 'technician', 'professor']\n",
    "commuter_professions = df[df['Occupation'].str.contains('|'.join(commuter_professions_keywords), case=False, na=False) ]\n",
    "\n",
    "# Aggregate specific job titles under general headings\n",
    "aggregated_professions = {\n",
    "    'Student': commuter_professions[commuter_professions['Occupation'].str.contains('student', case=False, na=False)].shape[0],\n",
    "    'Journalist': commuter_professions[commuter_professions['Occupation'].str.contains('journalist', case=False, na=False)].shape[0],\n",
    "    'Surveyor': commuter_professions[commuter_professions['Occupation'].str.contains('surveyor', case=False, na=False)].shape[0],\n",
    "    'Consultants': commuter_professions[commuter_professions['Occupation'].str.contains('consultant', case=False, na=False)].shape[0],\n",
    "    'Scientists': commuter_professions[commuter_professions['Occupation'].str.contains('scientist', case=False, na=False)].shape[0],\n",
    "    'Technicians': commuter_professions[commuter_professions['Occupation'].str.contains('technician', case=False, na=False)].shape[0],\n",
    "    'Professors': commuter_professions[commuter_professions['Occupation'].str.contains('professor', case=False, na=False)].shape[0]\n",
    "}\n",
    "\n",
    "# Convert the dictionary to a Series for plotting\n",
    "aggregated_professions_series = pd.Series(aggregated_professions)\n",
    "\n",
    "# Plot the aggregated commuter profession distribution\n",
    "plt.figure(figsize=(10, 6))\n",
    "aggregated_professions_series.plot(kind='bar')\n",
    "plt.xlabel('Occupation')\n",
    "plt.ylabel('Number of People')\n",
    "plt.title('Aggregated Commuter Occupations')\n",
    "plt.tight_layout()\n",
    "plt.savefig('Commuter_Professions.png')\n",
    "plt.show()"
   ]
  },
  {
   "cell_type": "markdown",
   "id": "36736573-cf3b-40de-b805-2a4041490b7c",
   "metadata": {},
   "source": [
    "# Hypothesis Testing"
   ]
  },
  {
   "cell_type": "code",
   "execution_count": 412,
   "id": "a805fbd9-5344-4901-974d-3f6857b1deaf",
   "metadata": {},
   "outputs": [
    {
     "name": "stdout",
     "output_type": "stream",
     "text": [
      "Observed proportion of elderly people: 0.1210\n",
      "Population proportion: 0.15\n",
      "Z-statistic: -8.0063\n",
      "P-value: 1.0000\n",
      "Fail to reject the null hypothesis: There is no significant difference in the proportion of elderly people compared to the general population.\n"
     ]
    }
   ],
   "source": [
    "from statsmodels.stats.proportion import proportions_ztest\n",
    "\n",
    "# Define the age threshold for elderly people\n",
    "age_threshold = 65\n",
    "\n",
    "# Calculate the observed proportion of elderly people in the dataset\n",
    "total_population = df.shape[0]\n",
    "num_elderly_people = df[df['Age'] >= age_threshold].shape[0]\n",
    "observed_proportion = num_elderly_people / total_population\n",
    "\n",
    "# Define the population proportion (for the purpose of this example, let's assume it's 15%)\n",
    "population_proportion = 0.15\n",
    "\n",
    "# Perform the one-sample proportion z-test\n",
    "count = num_elderly_people\n",
    "nobs = total_population\n",
    "stat, p_value = proportions_ztest(count, nobs, value=population_proportion, alternative='larger')\n",
    "\n",
    "# Print the results\n",
    "print(f\"Observed proportion of elderly people: {observed_proportion:.4f}\")\n",
    "print(f\"Population proportion: {population_proportion}\")\n",
    "print(f\"Z-statistic: {stat:.4f}\")\n",
    "print(f\"P-value: {p_value:.4f}\")\n",
    "\n",
    "# Interpret the result\n",
    "alpha = 0.05  # Significance level\n",
    "if p_value < alpha:\n",
    "    print(\"Reject the null hypothesis: There is a significantly higher proportion of elderly people in the dataset.\")\n",
    "else:\n",
    "    print(\"Fail to reject the null hypothesis: There is no significant difference in the proportion of elderly people compared to the general population.\")"
   ]
  },
  {
   "cell_type": "code",
   "execution_count": 413,
   "id": "95f5093e-2c9e-4f5d-b8e7-3ea8d8d76afb",
   "metadata": {},
   "outputs": [
    {
     "name": "stdout",
     "output_type": "stream",
     "text": [
      "Observed counts: [1507, 6578]\n",
      "Expected counts: [1617.0, 6468.0]\n",
      "Chi-square statistic: 4.713837601725638\n",
      "P-value: 0.029920787797231358\n",
      "There is evidence to suggest a significant difference in the proportion of school-aged children.\n"
     ]
    }
   ],
   "source": [
    "from scipy.stats import chi2_contingency\n",
    "\n",
    "# Define school-aged children age group (5-18)\n",
    "df['School_Aged'] = df['Age'].between(5, 18)\n",
    "\n",
    "# Group data by age group (school-aged vs. non-school-aged)\n",
    "age_group_counts = df['School_Aged'].value_counts()\n",
    "\n",
    "# We will perform a chi-square test to see if there is a significant difference in the proportion of school-aged children\n",
    "# compared to an expected distribution. For simplicity, let's assume the expected proportion is 20% school-aged children.\n",
    "observed = [age_group_counts[True], age_group_counts[False]]\n",
    "expected = [0.20 * df.shape[0], 0.80 * df.shape[0]]\n",
    "\n",
    "# Perform chi-square test\n",
    "chi2, p_value = chi2_contingency([observed, expected])[:2]\n",
    "\n",
    "# Output the results\n",
    "print(f\"Observed counts: {observed}\")\n",
    "print(f\"Expected counts: {expected}\")\n",
    "print(f\"Chi-square statistic: {chi2}\")\n",
    "print(f\"P-value: {p_value}\")\n",
    "\n",
    "# Interpretation\n",
    "if p_value < 0.05:\n",
    "    print(\"There is evidence to suggest a significant difference in the proportion of school-aged children.\")\n",
    "else:\n",
    "    print(\"There is no evidence to suggest a significant difference in the proportion of school-aged children.\")"
   ]
  },
  {
   "cell_type": "code",
   "execution_count": 414,
   "id": "5e1bf1f9-8557-496a-9c9e-bbd164b317dc",
   "metadata": {},
   "outputs": [
    {
     "name": "stdout",
     "output_type": "stream",
     "text": [
      "Population size: 8085\n",
      "Hypothetical mean age: 40.4\n",
      "T-statistic: -14.162083329147105\n",
      "P-value: 5.412825036486498e-45\n",
      "There is evidence to suggest the population's mean age is different from the hypothetical mean age.\n",
      "The population is younger on average, which might indicate a growing population due to higher birth rates or younger migration patterns.\n"
     ]
    }
   ],
   "source": [
    "from scipy.stats import ttest_1samp\n",
    "\n",
    "# Sample data\n",
    "population = df.shape[0]\n",
    "\n",
    "# Mean age from UK Census 2021\n",
    "hypothetical_mean_age = 40.4\n",
    "\n",
    "# Perform a single-sample t-test\n",
    "t_stat, p_value = ttest_1samp(df['Age'], hypothetical_mean_age)\n",
    "\n",
    "# Output the results\n",
    "print(f\"Population size: {population}\")\n",
    "print(f\"Hypothetical mean age: {hypothetical_mean_age}\")\n",
    "print(f\"T-statistic: {t_stat}\")\n",
    "print(f\"P-value: {p_value}\")\n",
    "\n",
    "# Interpretation\n",
    "if p_value < 0.05:\n",
    "    print(\"There is evidence to suggest the population's mean age is different from the hypothetical mean age.\")\n",
    "else:\n",
    "    print(\"There is no evidence to suggest the population's mean age is different from the hypothetical mean age.\")\n",
    "\n",
    "\n",
    "# Additional considerations for population growth\n",
    "mean_age = df['Age'].mean()\n",
    "if mean_age < hypothetical_mean_age:\n",
    "    print(\"The population is younger on average, which might indicate a growing population due to higher birth rates or younger migration patterns.\")\n",
    "elif mean_age > hypothetical_mean_age:\n",
    "    print(\"The population is older on average, which might suggest an aging population, potentially indicating slower population growth or even decline.\")\n",
    "else:\n",
    "    print(\"The population's mean age is similar to the overall population mean age, suggesting no significant differences in age distribution.\")"
   ]
  },
  {
   "cell_type": "code",
   "execution_count": null,
   "id": "982f2f0c-c774-4c59-adfc-f86b00e15d44",
   "metadata": {},
   "outputs": [],
   "source": []
  }
 ],
 "metadata": {
  "kernelspec": {
   "display_name": "Python 3 (ipykernel)",
   "language": "python",
   "name": "python3"
  },
  "language_info": {
   "codemirror_mode": {
    "name": "ipython",
    "version": 3
   },
   "file_extension": ".py",
   "mimetype": "text/x-python",
   "name": "python",
   "nbconvert_exporter": "python",
   "pygments_lexer": "ipython3",
   "version": "3.13.2"
  }
 },
 "nbformat": 4,
 "nbformat_minor": 5
}
